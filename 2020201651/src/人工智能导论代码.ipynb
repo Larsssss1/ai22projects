{
 "cells": [
  {
   "cell_type": "code",
   "execution_count": 2,
   "metadata": {
    "id": "gRu9kpkYyztz"
   },
   "outputs": [],
   "source": [
    "import pandas as pd\n",
    "import sklearn.metrics as metrique\n",
    "from pandas import Series\n",
    "from sklearn.preprocessing import StandardScaler, MinMaxScaler\n",
    "from matplotlib import pyplot\n",
    "from sklearn.model_selection import train_test_split\n",
    "import numpy as np\n",
    "from keras.callbacks import EarlyStopping\n",
    "from keras.utils import np_utils\n",
    "from keras.callbacks import ModelCheckpoint\n",
    "from sklearn.metrics import accuracy_score\n",
    "from sklearn.metrics import classification_report, confusion_matrix\n",
    "from keras.models import Sequential\n",
    "from keras.utils import np_utils\n",
    "from keras.layers import LSTM, Dense, Embedding, Dropout,Input, Attention, Layer, Concatenate, Permute, Dot, Multiply, Flatten\n",
    "from keras.layers import RepeatVector, Dense, Activation, Lambda\n",
    "from keras.models import Sequential\n",
    "from keras import backend as K, regularizers, Model, metrics\n",
    "from keras.backend import cast"
   ]
  },
  {
   "cell_type": "code",
   "execution_count": 58,
   "metadata": {
    "colab": {
     "base_uri": "https://localhost:8080/",
     "height": 349
    },
    "id": "Mlth1eViyz_p",
    "outputId": "2e4baf25-7588-4a62-8793-fe827462f04a"
   },
   "outputs": [
    {
     "data": {
      "text/html": [
       "<div>\n",
       "<style scoped>\n",
       "    .dataframe tbody tr th:only-of-type {\n",
       "        vertical-align: middle;\n",
       "    }\n",
       "\n",
       "    .dataframe tbody tr th {\n",
       "        vertical-align: top;\n",
       "    }\n",
       "\n",
       "    .dataframe thead th {\n",
       "        text-align: right;\n",
       "    }\n",
       "</style>\n",
       "<table border=\"1\" class=\"dataframe\">\n",
       "  <thead>\n",
       "    <tr style=\"text-align: right;\">\n",
       "      <th></th>\n",
       "      <th>三天内用户过去购买商品的次数和</th>\n",
       "      <th>三天内用户过去购买金额的总和</th>\n",
       "      <th>三天内用户过去购买金额的均值</th>\n",
       "      <th>三天内用户过去购买金额的最大值</th>\n",
       "      <th>三天内用户过去购买金额的标准差</th>\n",
       "      <th>三天内用户过去交易的当天购买时长均值</th>\n",
       "      <th>三天内用户过去交易的当天购买时长最大值</th>\n",
       "      <th>三天内用户过去交易的当天购买时长标准差</th>\n",
       "      <th>三天内用户过去退款的次数和</th>\n",
       "      <th>三天内用户过去退款金额的和</th>\n",
       "      <th>...</th>\n",
       "      <th>用户是否为主播</th>\n",
       "      <th>用户是否签约频道</th>\n",
       "      <th>用户作为主播的经验值</th>\n",
       "      <th>用户作为观众的经验值</th>\n",
       "      <th>用户过去打赏不同主播的个数和</th>\n",
       "      <th>用户过去是否受到过CODE_REAR_RISK_FAIL拦截</th>\n",
       "      <th>购买类别</th>\n",
       "      <th>当天购买时长</th>\n",
       "      <th>当天退款时长</th>\n",
       "      <th>该订单是否被退款</th>\n",
       "    </tr>\n",
       "  </thead>\n",
       "  <tbody>\n",
       "    <tr>\n",
       "      <th>0</th>\n",
       "      <td>1</td>\n",
       "      <td>88.0</td>\n",
       "      <td>88.0</td>\n",
       "      <td>88.0</td>\n",
       "      <td>0.0</td>\n",
       "      <td>83415.0</td>\n",
       "      <td>83415</td>\n",
       "      <td>0.0</td>\n",
       "      <td>0</td>\n",
       "      <td>0.0</td>\n",
       "      <td>...</td>\n",
       "      <td>0</td>\n",
       "      <td>0</td>\n",
       "      <td>0</td>\n",
       "      <td>235</td>\n",
       "      <td>1</td>\n",
       "      <td>0</td>\n",
       "      <td>2</td>\n",
       "      <td>83572</td>\n",
       "      <td>999999999999</td>\n",
       "      <td>0</td>\n",
       "    </tr>\n",
       "    <tr>\n",
       "      <th>1</th>\n",
       "      <td>0</td>\n",
       "      <td>0.0</td>\n",
       "      <td>0.0</td>\n",
       "      <td>0.0</td>\n",
       "      <td>0.0</td>\n",
       "      <td>0.0</td>\n",
       "      <td>0</td>\n",
       "      <td>0.0</td>\n",
       "      <td>0</td>\n",
       "      <td>0.0</td>\n",
       "      <td>...</td>\n",
       "      <td>0</td>\n",
       "      <td>0</td>\n",
       "      <td>0</td>\n",
       "      <td>235</td>\n",
       "      <td>1</td>\n",
       "      <td>0</td>\n",
       "      <td>2</td>\n",
       "      <td>83415</td>\n",
       "      <td>999999999999</td>\n",
       "      <td>0</td>\n",
       "    </tr>\n",
       "    <tr>\n",
       "      <th>2</th>\n",
       "      <td>0</td>\n",
       "      <td>0.0</td>\n",
       "      <td>0.0</td>\n",
       "      <td>0.0</td>\n",
       "      <td>0.0</td>\n",
       "      <td>0.0</td>\n",
       "      <td>0</td>\n",
       "      <td>0.0</td>\n",
       "      <td>0</td>\n",
       "      <td>0.0</td>\n",
       "      <td>...</td>\n",
       "      <td>0</td>\n",
       "      <td>0</td>\n",
       "      <td>0</td>\n",
       "      <td>75</td>\n",
       "      <td>1</td>\n",
       "      <td>0</td>\n",
       "      <td>1</td>\n",
       "      <td>62912</td>\n",
       "      <td>999999999999</td>\n",
       "      <td>0</td>\n",
       "    </tr>\n",
       "    <tr>\n",
       "      <th>3</th>\n",
       "      <td>0</td>\n",
       "      <td>0.0</td>\n",
       "      <td>0.0</td>\n",
       "      <td>0.0</td>\n",
       "      <td>0.0</td>\n",
       "      <td>0.0</td>\n",
       "      <td>0</td>\n",
       "      <td>0.0</td>\n",
       "      <td>0</td>\n",
       "      <td>0.0</td>\n",
       "      <td>...</td>\n",
       "      <td>1</td>\n",
       "      <td>1</td>\n",
       "      <td>127538</td>\n",
       "      <td>4783</td>\n",
       "      <td>1</td>\n",
       "      <td>0</td>\n",
       "      <td>9</td>\n",
       "      <td>75995</td>\n",
       "      <td>999999999999</td>\n",
       "      <td>0</td>\n",
       "    </tr>\n",
       "    <tr>\n",
       "      <th>4</th>\n",
       "      <td>0</td>\n",
       "      <td>0.0</td>\n",
       "      <td>0.0</td>\n",
       "      <td>0.0</td>\n",
       "      <td>0.0</td>\n",
       "      <td>0.0</td>\n",
       "      <td>0</td>\n",
       "      <td>0.0</td>\n",
       "      <td>0</td>\n",
       "      <td>0.0</td>\n",
       "      <td>...</td>\n",
       "      <td>0</td>\n",
       "      <td>0</td>\n",
       "      <td>0</td>\n",
       "      <td>1274</td>\n",
       "      <td>2</td>\n",
       "      <td>0</td>\n",
       "      <td>2</td>\n",
       "      <td>156</td>\n",
       "      <td>999999999999</td>\n",
       "      <td>0</td>\n",
       "    </tr>\n",
       "  </tbody>\n",
       "</table>\n",
       "<p>5 rows × 101 columns</p>\n",
       "</div>"
      ],
      "text/plain": [
       "   三天内用户过去购买商品的次数和  三天内用户过去购买金额的总和  三天内用户过去购买金额的均值  三天内用户过去购买金额的最大值  \\\n",
       "0                1            88.0            88.0             88.0   \n",
       "1                0             0.0             0.0              0.0   \n",
       "2                0             0.0             0.0              0.0   \n",
       "3                0             0.0             0.0              0.0   \n",
       "4                0             0.0             0.0              0.0   \n",
       "\n",
       "   三天内用户过去购买金额的标准差  三天内用户过去交易的当天购买时长均值  三天内用户过去交易的当天购买时长最大值  \\\n",
       "0              0.0             83415.0                83415   \n",
       "1              0.0                 0.0                    0   \n",
       "2              0.0                 0.0                    0   \n",
       "3              0.0                 0.0                    0   \n",
       "4              0.0                 0.0                    0   \n",
       "\n",
       "   三天内用户过去交易的当天购买时长标准差  三天内用户过去退款的次数和  三天内用户过去退款金额的和  ...  用户是否为主播  用户是否签约频道  \\\n",
       "0                  0.0              0            0.0  ...        0         0   \n",
       "1                  0.0              0            0.0  ...        0         0   \n",
       "2                  0.0              0            0.0  ...        0         0   \n",
       "3                  0.0              0            0.0  ...        1         1   \n",
       "4                  0.0              0            0.0  ...        0         0   \n",
       "\n",
       "   用户作为主播的经验值  用户作为观众的经验值  用户过去打赏不同主播的个数和  用户过去是否受到过CODE_REAR_RISK_FAIL拦截  \\\n",
       "0           0         235               1                               0   \n",
       "1           0         235               1                               0   \n",
       "2           0          75               1                               0   \n",
       "3      127538        4783               1                               0   \n",
       "4           0        1274               2                               0   \n",
       "\n",
       "   购买类别  当天购买时长        当天退款时长  该订单是否被退款  \n",
       "0     2   83572  999999999999         0  \n",
       "1     2   83415  999999999999         0  \n",
       "2     1   62912  999999999999         0  \n",
       "3     9   75995  999999999999         0  \n",
       "4     2     156  999999999999         0  \n",
       "\n",
       "[5 rows x 101 columns]"
      ]
     },
     "execution_count": 58,
     "metadata": {},
     "output_type": "execute_result"
    }
   ],
   "source": [
    "data = pd.read_csv('data_result.csv',encoding='gb18030')\n",
    "data.head()"
   ]
  },
  {
   "cell_type": "markdown",
   "metadata": {
    "id": "CjxpXuQ6L73K"
   },
   "source": [
    "# **数据预处理**"
   ]
  },
  {
   "cell_type": "code",
   "execution_count": 59,
   "metadata": {
    "id": "YR4sfbH1oQMo"
   },
   "outputs": [],
   "source": [
    "#RFM框架\n",
    "datar = data[['三天内用户过去购买商品的次数和', '三天内用户过去购买金额的总和', '三天内用户过去购买金额的均值',\n",
    "       '三天内用户过去购买金额的最大值', '三天内用户过去购买金额的标准差', '三天内用户过去交易的当天购买时长均值',\n",
    "       '三天内用户过去交易的当天购买时长最大值', '三天内用户过去交易的当天购买时长标准差', '七天内用户过去购买商品的次数和',\n",
    "       '七天内用户过去购买金额的总和', '七天内用户过去购买金额的均值', '七天内用户过去购买金额的最大值',\n",
    "       '七天内用户过去购买金额的标准差', '七天内用户过去交易的当天购买时长均值', '七天内用户过去交易的当天购买时长最大值',\n",
    "       '七天内用户过去交易的当天购买时长标准差', '十五天内用户过去购买商品的次数和', '十五天内用户过去购买金额的总和',\n",
    "       '十五天内用户过去购买金额的均值', '十五天内用户过去购买金额的最大值', '十五天内用户过去购买金额的标准差',\n",
    "       '十五天内用户过去交易的当天购买时长均值', '十五天内用户过去交易的当天购买时长最大值', '十五天内用户过去交易的当天购买时长标准差',\n",
    "       '一个月内用户过去购买商品的次数和', '一个月内用户过去购买金额的总和', '一个月内用户过去购买金额的均值',\n",
    "       '一个月内用户过去购买金额的最大值', '一个月内用户过去购买金额的标准差', '一个月内用户过去交易的当天购买时长均值',\n",
    "       '一个月内用户过去交易的当天购买时长最大值', '一个月内用户过去交易的当天购买时长标准差', '三个月内用户过去购买商品的次数和',\n",
    "       '三个月内用户过去购买金额的总和', '三个月内用户过去购买金额的均值', '三个月内用户过去购买金额的最大值',\n",
    "       '三个月内用户过去购买金额的标准差', '三个月内用户过去交易的当天购买时长均值', '三个月内用户过去交易的当天购买时长最大值',\n",
    "       '三个月内用户过去交易的当天购买时长标准差', '该订单是否被退款']]"
   ]
  },
  {
   "cell_type": "code",
   "execution_count": 60,
   "metadata": {
    "colab": {
     "base_uri": "https://localhost:8080/"
    },
    "id": "J3fE62wnqYK2",
    "outputId": "8ab32c9b-06a4-4de0-8ad3-aa4254e677b4"
   },
   "outputs": [
    {
     "data": {
      "text/plain": [
       "((698290, 40), (698290,))"
      ]
     },
     "execution_count": 60,
     "metadata": {},
     "output_type": "execute_result"
    }
   ],
   "source": [
    "Xr = datar.drop('该订单是否被退款', axis=1)\n",
    "yr = datar['该订单是否被退款']\n",
    "Xr.shape , yr.shape"
   ]
  },
  {
   "cell_type": "code",
   "execution_count": 61,
   "metadata": {
    "id": "Dxi8G2EePl_C"
   },
   "outputs": [],
   "source": [
    "scaler = StandardScaler()\n",
    "Xr= scaler.fit_transform(Xr)"
   ]
  },
  {
   "cell_type": "code",
   "execution_count": 62,
   "metadata": {
    "id": "IA6yxdj8qojt"
   },
   "outputs": [],
   "source": [
    "Xr_train, Xr_test, yr_train, yr_test = train_test_split(Xr, yr, test_size = 0.3, \n",
    "                                                   random_state = 0,\n",
    "                                                   stratify = yr)"
   ]
  },
  {
   "cell_type": "markdown",
   "metadata": {
    "id": "bsYipAkJMkC5"
   },
   "source": [
    "欠采样"
   ]
  },
  {
   "cell_type": "code",
   "execution_count": 63,
   "metadata": {
    "id": "EMRvEgmsQh1_"
   },
   "outputs": [],
   "source": [
    "from imblearn.under_sampling import RandomUnderSampler\n",
    "rus = RandomUnderSampler(random_state=0)\n",
    "Xr_train, yr_train = rus.fit_resample(Xr_train, yr_train)\n",
    "#X_train = StandardScaler().fit_transform(X_train)\n"
   ]
  },
  {
   "cell_type": "code",
   "execution_count": 64,
   "metadata": {
    "id": "qdprzwPHQi2X"
   },
   "outputs": [],
   "source": [
    "from imblearn.under_sampling import RandomUnderSampler\n",
    "rus = RandomUnderSampler(random_state=0)\n",
    "Xr_test, yr_test = rus.fit_resample(Xr_test, yr_test)\n",
    "#X_test = StandardScaler().fit_transform(X_test)"
   ]
  },
  {
   "cell_type": "markdown",
   "metadata": {
    "id": "nJocyK62hiqk"
   },
   "source": [
    "# **LSTM**"
   ]
  },
  {
   "cell_type": "code",
   "execution_count": 22,
   "metadata": {
    "id": "eN6iBsXh0UJj"
   },
   "outputs": [],
   "source": [
    "# design network\n",
    "np.random.seed(7)\n",
    "#----------------------------------------------------------------------------\n",
    "# X_train et X_val sont des dataframe qui contient les features\n",
    "trainr_LSTM_X=Xr_train\n",
    "valr_LSTM_X=Xr_test\n",
    "\n",
    "## Reshape input to be 3D [samples, timesteps, features] (format requis par LSTM)\n",
    "trainr_LSTM_X = trainr_LSTM_X.reshape((trainr_LSTM_X.shape[0], 1, trainr_LSTM_X.shape[1]))\n",
    "valr_LSTM_X = valr_LSTM_X.reshape((valr_LSTM_X.shape[0], 1, valr_LSTM_X.shape[1]))\n",
    "\n",
    "## Recuperation des labels\n",
    "trainr_LSTM_y=yr_train\n",
    "valr_LSTM_y=yr_test"
   ]
  },
  {
   "cell_type": "code",
   "execution_count": null,
   "metadata": {},
   "outputs": [],
   "source": [
    "#RFM\n",
    "inputsr=Input((1, trainr_LSTM_X.shape[2]))\n",
    "xr1=LSTM(50,return_sequences=True)(inputsr)\n",
    "# x1=LSTM(50,dropout=0.3,recurrent_dropout=0.2)(inputs)\n",
    "xr2=LSTM(50)(xr1)\n",
    "outputsr=Dense(1,activation='sigmoid')(xr2)\n",
    "modelr=Model(inputsr,outputsr)"
   ]
  },
  {
   "cell_type": "code",
   "execution_count": null,
   "metadata": {},
   "outputs": [],
   "source": [
    "modelr.compile(loss='binary_crossentropy', optimizer='adam', metrics=['accuracy'])"
   ]
  },
  {
   "cell_type": "code",
   "execution_count": 28,
   "metadata": {
    "colab": {
     "base_uri": "https://localhost:8080/"
    },
    "id": "WP4ObryjJVKk",
    "outputId": "03a3bae2-b58c-4ee3-925f-5bd37458f67d"
   },
   "outputs": [
    {
     "name": "stdout",
     "output_type": "stream",
     "text": [
      "Epoch 1/500\n",
      "1/1 [==============================] - 4s 4s/step - loss: 0.7053 - accuracy: 0.2491 - val_loss: 0.6956 - val_accuracy: 0.3915\n",
      "Epoch 2/500\n",
      "1/1 [==============================] - 0s 40ms/step - loss: 0.6968 - accuracy: 0.3606 - val_loss: 0.6874 - val_accuracy: 0.5000\n",
      "Epoch 3/500\n",
      "1/1 [==============================] - 0s 35ms/step - loss: 0.6884 - accuracy: 0.4796 - val_loss: 0.6794 - val_accuracy: 0.6756\n",
      "Epoch 4/500\n",
      "1/1 [==============================] - 0s 35ms/step - loss: 0.6801 - accuracy: 0.6942 - val_loss: 0.6714 - val_accuracy: 0.7076\n",
      "Epoch 5/500\n",
      "1/1 [==============================] - 0s 37ms/step - loss: 0.6720 - accuracy: 0.7292 - val_loss: 0.6636 - val_accuracy: 0.7200\n",
      "Epoch 6/500\n",
      "1/1 [==============================] - 0s 35ms/step - loss: 0.6639 - accuracy: 0.7527 - val_loss: 0.6558 - val_accuracy: 0.7345\n",
      "Epoch 7/500\n",
      "1/1 [==============================] - 0s 38ms/step - loss: 0.6559 - accuracy: 0.7593 - val_loss: 0.6480 - val_accuracy: 0.7417\n",
      "Epoch 8/500\n",
      "1/1 [==============================] - 0s 35ms/step - loss: 0.6479 - accuracy: 0.7673 - val_loss: 0.6403 - val_accuracy: 0.7428\n",
      "Epoch 9/500\n",
      "1/1 [==============================] - 0s 35ms/step - loss: 0.6398 - accuracy: 0.7695 - val_loss: 0.6325 - val_accuracy: 0.7459\n",
      "Epoch 10/500\n",
      "1/1 [==============================] - 0s 36ms/step - loss: 0.6318 - accuracy: 0.7677 - val_loss: 0.6248 - val_accuracy: 0.7469\n",
      "Epoch 11/500\n",
      "1/1 [==============================] - 0s 34ms/step - loss: 0.6238 - accuracy: 0.7668 - val_loss: 0.6171 - val_accuracy: 0.7479\n",
      "Epoch 12/500\n",
      "1/1 [==============================] - 0s 34ms/step - loss: 0.6158 - accuracy: 0.7659 - val_loss: 0.6094 - val_accuracy: 0.7469\n",
      "Epoch 13/500\n",
      "1/1 [==============================] - 0s 38ms/step - loss: 0.6078 - accuracy: 0.7668 - val_loss: 0.6017 - val_accuracy: 0.7479\n",
      "Epoch 14/500\n",
      "1/1 [==============================] - 0s 34ms/step - loss: 0.5998 - accuracy: 0.7681 - val_loss: 0.5941 - val_accuracy: 0.7490\n",
      "Epoch 15/500\n",
      "1/1 [==============================] - 0s 38ms/step - loss: 0.5918 - accuracy: 0.7704 - val_loss: 0.5865 - val_accuracy: 0.7479\n",
      "Epoch 16/500\n",
      "1/1 [==============================] - 0s 34ms/step - loss: 0.5839 - accuracy: 0.7708 - val_loss: 0.5789 - val_accuracy: 0.7490\n",
      "Epoch 17/500\n",
      "1/1 [==============================] - 0s 34ms/step - loss: 0.5760 - accuracy: 0.7717 - val_loss: 0.5715 - val_accuracy: 0.7469\n",
      "Epoch 18/500\n",
      "1/1 [==============================] - 0s 38ms/step - loss: 0.5682 - accuracy: 0.7721 - val_loss: 0.5641 - val_accuracy: 0.7490\n",
      "Epoch 19/500\n",
      "1/1 [==============================] - 0s 35ms/step - loss: 0.5605 - accuracy: 0.7757 - val_loss: 0.5568 - val_accuracy: 0.7500\n",
      "Epoch 20/500\n",
      "1/1 [==============================] - 0s 42ms/step - loss: 0.5530 - accuracy: 0.7770 - val_loss: 0.5497 - val_accuracy: 0.7541\n",
      "Epoch 21/500\n",
      "1/1 [==============================] - 0s 34ms/step - loss: 0.5456 - accuracy: 0.7779 - val_loss: 0.5427 - val_accuracy: 0.7552\n",
      "Epoch 22/500\n",
      "1/1 [==============================] - 0s 36ms/step - loss: 0.5384 - accuracy: 0.7792 - val_loss: 0.5360 - val_accuracy: 0.7593\n",
      "Epoch 23/500\n",
      "1/1 [==============================] - 0s 36ms/step - loss: 0.5314 - accuracy: 0.7805 - val_loss: 0.5294 - val_accuracy: 0.7634\n",
      "Epoch 24/500\n",
      "1/1 [==============================] - 0s 35ms/step - loss: 0.5247 - accuracy: 0.7841 - val_loss: 0.5231 - val_accuracy: 0.7665\n",
      "Epoch 25/500\n",
      "1/1 [==============================] - 0s 34ms/step - loss: 0.5182 - accuracy: 0.7858 - val_loss: 0.5171 - val_accuracy: 0.7686\n",
      "Epoch 26/500\n",
      "1/1 [==============================] - 0s 36ms/step - loss: 0.5119 - accuracy: 0.7881 - val_loss: 0.5112 - val_accuracy: 0.7758\n",
      "Epoch 27/500\n",
      "1/1 [==============================] - 0s 37ms/step - loss: 0.5059 - accuracy: 0.7907 - val_loss: 0.5056 - val_accuracy: 0.7769\n",
      "Epoch 28/500\n",
      "1/1 [==============================] - 0s 36ms/step - loss: 0.5001 - accuracy: 0.7916 - val_loss: 0.5002 - val_accuracy: 0.7820\n",
      "Epoch 29/500\n",
      "1/1 [==============================] - 0s 36ms/step - loss: 0.4945 - accuracy: 0.7951 - val_loss: 0.4950 - val_accuracy: 0.7851\n",
      "Epoch 30/500\n",
      "1/1 [==============================] - 0s 37ms/step - loss: 0.4892 - accuracy: 0.7996 - val_loss: 0.4900 - val_accuracy: 0.7893\n",
      "Epoch 31/500\n",
      "1/1 [==============================] - 0s 35ms/step - loss: 0.4840 - accuracy: 0.8049 - val_loss: 0.4852 - val_accuracy: 0.7965\n",
      "Epoch 32/500\n",
      "1/1 [==============================] - 0s 36ms/step - loss: 0.4790 - accuracy: 0.8093 - val_loss: 0.4806 - val_accuracy: 0.8037\n",
      "Epoch 33/500\n",
      "1/1 [==============================] - 0s 36ms/step - loss: 0.4741 - accuracy: 0.8115 - val_loss: 0.4760 - val_accuracy: 0.8058\n",
      "Epoch 34/500\n",
      "1/1 [==============================] - 0s 40ms/step - loss: 0.4694 - accuracy: 0.8137 - val_loss: 0.4716 - val_accuracy: 0.8079\n",
      "Epoch 35/500\n",
      "1/1 [==============================] - 0s 44ms/step - loss: 0.4647 - accuracy: 0.8173 - val_loss: 0.4673 - val_accuracy: 0.8140\n",
      "Epoch 36/500\n",
      "1/1 [==============================] - 0s 36ms/step - loss: 0.4602 - accuracy: 0.8195 - val_loss: 0.4631 - val_accuracy: 0.8182\n",
      "Epoch 37/500\n",
      "1/1 [==============================] - 0s 34ms/step - loss: 0.4556 - accuracy: 0.8226 - val_loss: 0.4590 - val_accuracy: 0.8182\n",
      "Epoch 38/500\n",
      "1/1 [==============================] - 0s 35ms/step - loss: 0.4512 - accuracy: 0.8230 - val_loss: 0.4549 - val_accuracy: 0.8171\n",
      "Epoch 39/500\n",
      "1/1 [==============================] - 0s 40ms/step - loss: 0.4467 - accuracy: 0.8239 - val_loss: 0.4510 - val_accuracy: 0.8182\n",
      "Epoch 40/500\n",
      "1/1 [==============================] - 0s 37ms/step - loss: 0.4423 - accuracy: 0.8270 - val_loss: 0.4470 - val_accuracy: 0.8233\n",
      "Epoch 41/500\n",
      "1/1 [==============================] - 0s 41ms/step - loss: 0.4378 - accuracy: 0.8288 - val_loss: 0.4431 - val_accuracy: 0.8254\n",
      "Epoch 42/500\n",
      "1/1 [==============================] - 0s 34ms/step - loss: 0.4334 - accuracy: 0.8336 - val_loss: 0.4393 - val_accuracy: 0.8275\n",
      "Epoch 43/500\n",
      "1/1 [==============================] - 0s 35ms/step - loss: 0.4290 - accuracy: 0.8372 - val_loss: 0.4356 - val_accuracy: 0.8285\n",
      "Epoch 44/500\n",
      "1/1 [==============================] - 0s 37ms/step - loss: 0.4246 - accuracy: 0.8398 - val_loss: 0.4319 - val_accuracy: 0.8285\n",
      "Epoch 45/500\n",
      "1/1 [==============================] - 0s 36ms/step - loss: 0.4203 - accuracy: 0.8434 - val_loss: 0.4283 - val_accuracy: 0.8326\n",
      "Epoch 46/500\n",
      "1/1 [==============================] - 0s 37ms/step - loss: 0.4160 - accuracy: 0.8469 - val_loss: 0.4248 - val_accuracy: 0.8357\n",
      "Epoch 47/500\n",
      "1/1 [==============================] - 0s 35ms/step - loss: 0.4117 - accuracy: 0.8478 - val_loss: 0.4214 - val_accuracy: 0.8357\n",
      "Epoch 48/500\n",
      "1/1 [==============================] - 0s 34ms/step - loss: 0.4076 - accuracy: 0.8504 - val_loss: 0.4181 - val_accuracy: 0.8409\n",
      "Epoch 49/500\n",
      "1/1 [==============================] - 0s 37ms/step - loss: 0.4036 - accuracy: 0.8549 - val_loss: 0.4150 - val_accuracy: 0.8450\n",
      "Epoch 50/500\n",
      "1/1 [==============================] - 0s 34ms/step - loss: 0.3998 - accuracy: 0.8580 - val_loss: 0.4119 - val_accuracy: 0.8450\n",
      "Epoch 51/500\n",
      "1/1 [==============================] - 0s 37ms/step - loss: 0.3962 - accuracy: 0.8606 - val_loss: 0.4091 - val_accuracy: 0.8492\n",
      "Epoch 52/500\n",
      "1/1 [==============================] - 0s 39ms/step - loss: 0.3927 - accuracy: 0.8619 - val_loss: 0.4064 - val_accuracy: 0.8543\n",
      "Epoch 53/500\n",
      "1/1 [==============================] - 0s 37ms/step - loss: 0.3894 - accuracy: 0.8642 - val_loss: 0.4038 - val_accuracy: 0.8564\n",
      "Epoch 54/500\n",
      "1/1 [==============================] - 0s 35ms/step - loss: 0.3862 - accuracy: 0.8646 - val_loss: 0.4015 - val_accuracy: 0.8595\n",
      "Epoch 55/500\n",
      "1/1 [==============================] - 0s 36ms/step - loss: 0.3831 - accuracy: 0.8655 - val_loss: 0.3992 - val_accuracy: 0.8605\n",
      "Epoch 56/500\n",
      "1/1 [==============================] - 0s 35ms/step - loss: 0.3802 - accuracy: 0.8673 - val_loss: 0.3971 - val_accuracy: 0.8605\n",
      "Epoch 57/500\n",
      "1/1 [==============================] - 0s 41ms/step - loss: 0.3774 - accuracy: 0.8677 - val_loss: 0.3950 - val_accuracy: 0.8616\n",
      "Epoch 58/500\n",
      "1/1 [==============================] - 0s 34ms/step - loss: 0.3747 - accuracy: 0.8681 - val_loss: 0.3931 - val_accuracy: 0.8616\n",
      "Epoch 59/500\n",
      "1/1 [==============================] - 0s 45ms/step - loss: 0.3721 - accuracy: 0.8681 - val_loss: 0.3912 - val_accuracy: 0.8636\n",
      "Epoch 60/500\n",
      "1/1 [==============================] - 0s 34ms/step - loss: 0.3696 - accuracy: 0.8681 - val_loss: 0.3895 - val_accuracy: 0.8626\n",
      "Epoch 61/500\n",
      "1/1 [==============================] - 0s 34ms/step - loss: 0.3672 - accuracy: 0.8681 - val_loss: 0.3878 - val_accuracy: 0.8647\n",
      "Epoch 62/500\n",
      "1/1 [==============================] - 0s 40ms/step - loss: 0.3649 - accuracy: 0.8677 - val_loss: 0.3863 - val_accuracy: 0.8667\n",
      "Epoch 63/500\n",
      "1/1 [==============================] - 0s 35ms/step - loss: 0.3627 - accuracy: 0.8677 - val_loss: 0.3848 - val_accuracy: 0.8667\n",
      "Epoch 64/500\n",
      "1/1 [==============================] - 0s 38ms/step - loss: 0.3606 - accuracy: 0.8673 - val_loss: 0.3834 - val_accuracy: 0.8678\n",
      "Epoch 65/500\n",
      "1/1 [==============================] - 0s 36ms/step - loss: 0.3587 - accuracy: 0.8677 - val_loss: 0.3821 - val_accuracy: 0.8667\n",
      "Epoch 66/500\n",
      "1/1 [==============================] - 0s 34ms/step - loss: 0.3568 - accuracy: 0.8677 - val_loss: 0.3809 - val_accuracy: 0.8667\n",
      "Epoch 67/500\n",
      "1/1 [==============================] - 0s 38ms/step - loss: 0.3551 - accuracy: 0.8677 - val_loss: 0.3798 - val_accuracy: 0.8667\n",
      "Epoch 68/500\n",
      "1/1 [==============================] - 0s 35ms/step - loss: 0.3535 - accuracy: 0.8681 - val_loss: 0.3788 - val_accuracy: 0.8667\n",
      "Epoch 69/500\n",
      "1/1 [==============================] - 0s 34ms/step - loss: 0.3519 - accuracy: 0.8686 - val_loss: 0.3777 - val_accuracy: 0.8667\n",
      "Epoch 70/500\n",
      "1/1 [==============================] - 0s 38ms/step - loss: 0.3505 - accuracy: 0.8686 - val_loss: 0.3768 - val_accuracy: 0.8678\n",
      "Epoch 71/500\n",
      "1/1 [==============================] - 0s 36ms/step - loss: 0.3492 - accuracy: 0.8699 - val_loss: 0.3758 - val_accuracy: 0.8678\n",
      "Epoch 72/500\n",
      "1/1 [==============================] - 0s 37ms/step - loss: 0.3479 - accuracy: 0.8695 - val_loss: 0.3748 - val_accuracy: 0.8688\n",
      "Epoch 73/500\n",
      "1/1 [==============================] - 0s 35ms/step - loss: 0.3467 - accuracy: 0.8699 - val_loss: 0.3739 - val_accuracy: 0.8688\n",
      "Epoch 74/500\n",
      "1/1 [==============================] - 0s 35ms/step - loss: 0.3456 - accuracy: 0.8699 - val_loss: 0.3729 - val_accuracy: 0.8688\n",
      "Epoch 75/500\n",
      "1/1 [==============================] - 0s 37ms/step - loss: 0.3445 - accuracy: 0.8699 - val_loss: 0.3719 - val_accuracy: 0.8688\n",
      "Epoch 76/500\n",
      "1/1 [==============================] - 0s 34ms/step - loss: 0.3434 - accuracy: 0.8704 - val_loss: 0.3709 - val_accuracy: 0.8688\n",
      "Epoch 77/500\n",
      "1/1 [==============================] - 0s 34ms/step - loss: 0.3424 - accuracy: 0.8704 - val_loss: 0.3699 - val_accuracy: 0.8688\n",
      "Epoch 78/500\n",
      "1/1 [==============================] - 0s 37ms/step - loss: 0.3415 - accuracy: 0.8695 - val_loss: 0.3689 - val_accuracy: 0.8688\n",
      "Epoch 79/500\n",
      "1/1 [==============================] - 0s 34ms/step - loss: 0.3405 - accuracy: 0.8695 - val_loss: 0.3679 - val_accuracy: 0.8688\n",
      "Epoch 80/500\n",
      "1/1 [==============================] - 0s 36ms/step - loss: 0.3396 - accuracy: 0.8704 - val_loss: 0.3669 - val_accuracy: 0.8688\n",
      "Epoch 81/500\n",
      "1/1 [==============================] - 0s 37ms/step - loss: 0.3388 - accuracy: 0.8704 - val_loss: 0.3658 - val_accuracy: 0.8678\n",
      "Epoch 82/500\n",
      "1/1 [==============================] - 0s 36ms/step - loss: 0.3379 - accuracy: 0.8704 - val_loss: 0.3648 - val_accuracy: 0.8678\n",
      "Epoch 83/500\n",
      "1/1 [==============================] - 0s 36ms/step - loss: 0.3371 - accuracy: 0.8712 - val_loss: 0.3637 - val_accuracy: 0.8688\n",
      "Epoch 84/500\n",
      "1/1 [==============================] - 0s 35ms/step - loss: 0.3364 - accuracy: 0.8712 - val_loss: 0.3627 - val_accuracy: 0.8698\n",
      "Epoch 85/500\n",
      "1/1 [==============================] - 0s 36ms/step - loss: 0.3356 - accuracy: 0.8717 - val_loss: 0.3616 - val_accuracy: 0.8709\n",
      "Epoch 86/500\n",
      "1/1 [==============================] - 0s 35ms/step - loss: 0.3349 - accuracy: 0.8712 - val_loss: 0.3605 - val_accuracy: 0.8709\n",
      "Epoch 87/500\n",
      "1/1 [==============================] - 0s 36ms/step - loss: 0.3341 - accuracy: 0.8712 - val_loss: 0.3595 - val_accuracy: 0.8709\n",
      "Epoch 88/500\n",
      "1/1 [==============================] - 0s 36ms/step - loss: 0.3334 - accuracy: 0.8712 - val_loss: 0.3585 - val_accuracy: 0.8709\n",
      "Epoch 89/500\n",
      "1/1 [==============================] - 0s 36ms/step - loss: 0.3327 - accuracy: 0.8717 - val_loss: 0.3574 - val_accuracy: 0.8709\n",
      "Epoch 90/500\n",
      "1/1 [==============================] - 0s 36ms/step - loss: 0.3321 - accuracy: 0.8717 - val_loss: 0.3564 - val_accuracy: 0.8709\n",
      "Epoch 91/500\n",
      "1/1 [==============================] - 0s 36ms/step - loss: 0.3314 - accuracy: 0.8717 - val_loss: 0.3554 - val_accuracy: 0.8698\n",
      "Epoch 92/500\n",
      "1/1 [==============================] - 0s 34ms/step - loss: 0.3308 - accuracy: 0.8726 - val_loss: 0.3544 - val_accuracy: 0.8709\n",
      "Epoch 93/500\n",
      "1/1 [==============================] - 0s 35ms/step - loss: 0.3302 - accuracy: 0.8730 - val_loss: 0.3534 - val_accuracy: 0.8709\n",
      "Epoch 94/500\n",
      "1/1 [==============================] - 0s 38ms/step - loss: 0.3296 - accuracy: 0.8730 - val_loss: 0.3525 - val_accuracy: 0.8719\n",
      "Epoch 95/500\n",
      "1/1 [==============================] - 0s 34ms/step - loss: 0.3290 - accuracy: 0.8726 - val_loss: 0.3516 - val_accuracy: 0.8719\n",
      "Epoch 96/500\n",
      "1/1 [==============================] - 0s 39ms/step - loss: 0.3284 - accuracy: 0.8726 - val_loss: 0.3507 - val_accuracy: 0.8719\n",
      "Epoch 97/500\n",
      "1/1 [==============================] - 0s 35ms/step - loss: 0.3279 - accuracy: 0.8726 - val_loss: 0.3498 - val_accuracy: 0.8719\n",
      "Epoch 98/500\n",
      "1/1 [==============================] - 0s 34ms/step - loss: 0.3273 - accuracy: 0.8730 - val_loss: 0.3490 - val_accuracy: 0.8719\n",
      "Epoch 99/500\n",
      "1/1 [==============================] - 0s 38ms/step - loss: 0.3268 - accuracy: 0.8730 - val_loss: 0.3482 - val_accuracy: 0.8719\n",
      "Epoch 100/500\n",
      "1/1 [==============================] - 0s 34ms/step - loss: 0.3263 - accuracy: 0.8735 - val_loss: 0.3474 - val_accuracy: 0.8719\n",
      "Epoch 101/500\n",
      "1/1 [==============================] - 0s 35ms/step - loss: 0.3258 - accuracy: 0.8730 - val_loss: 0.3466 - val_accuracy: 0.8719\n",
      "Epoch 102/500\n",
      "1/1 [==============================] - 0s 36ms/step - loss: 0.3253 - accuracy: 0.8726 - val_loss: 0.3459 - val_accuracy: 0.8729\n",
      "Epoch 103/500\n",
      "1/1 [==============================] - 0s 35ms/step - loss: 0.3249 - accuracy: 0.8726 - val_loss: 0.3452 - val_accuracy: 0.8740\n",
      "Epoch 104/500\n",
      "1/1 [==============================] - 0s 38ms/step - loss: 0.3244 - accuracy: 0.8726 - val_loss: 0.3446 - val_accuracy: 0.8740\n",
      "Epoch 105/500\n",
      "1/1 [==============================] - 0s 34ms/step - loss: 0.3239 - accuracy: 0.8730 - val_loss: 0.3440 - val_accuracy: 0.8740\n",
      "Epoch 106/500\n",
      "1/1 [==============================] - 0s 35ms/step - loss: 0.3235 - accuracy: 0.8730 - val_loss: 0.3434 - val_accuracy: 0.8740\n",
      "Epoch 107/500\n",
      "1/1 [==============================] - 0s 38ms/step - loss: 0.3231 - accuracy: 0.8735 - val_loss: 0.3428 - val_accuracy: 0.8750\n",
      "Epoch 108/500\n",
      "1/1 [==============================] - 0s 34ms/step - loss: 0.3227 - accuracy: 0.8735 - val_loss: 0.3422 - val_accuracy: 0.8750\n",
      "Epoch 109/500\n",
      "1/1 [==============================] - 0s 35ms/step - loss: 0.3223 - accuracy: 0.8739 - val_loss: 0.3417 - val_accuracy: 0.8750\n",
      "Epoch 110/500\n",
      "1/1 [==============================] - 0s 37ms/step - loss: 0.3219 - accuracy: 0.8739 - val_loss: 0.3412 - val_accuracy: 0.8750\n",
      "Epoch 111/500\n",
      "1/1 [==============================] - 0s 34ms/step - loss: 0.3215 - accuracy: 0.8739 - val_loss: 0.3407 - val_accuracy: 0.8750\n",
      "Epoch 112/500\n",
      "1/1 [==============================] - 0s 35ms/step - loss: 0.3211 - accuracy: 0.8739 - val_loss: 0.3402 - val_accuracy: 0.8750\n",
      "Epoch 113/500\n",
      "1/1 [==============================] - 0s 37ms/step - loss: 0.3207 - accuracy: 0.8739 - val_loss: 0.3398 - val_accuracy: 0.8750\n",
      "Epoch 114/500\n",
      "1/1 [==============================] - 0s 36ms/step - loss: 0.3204 - accuracy: 0.8743 - val_loss: 0.3393 - val_accuracy: 0.8750\n",
      "Epoch 115/500\n",
      "1/1 [==============================] - 0s 38ms/step - loss: 0.3200 - accuracy: 0.8743 - val_loss: 0.3389 - val_accuracy: 0.8750\n",
      "Epoch 116/500\n",
      "1/1 [==============================] - 0s 34ms/step - loss: 0.3197 - accuracy: 0.8743 - val_loss: 0.3385 - val_accuracy: 0.8760\n",
      "Epoch 117/500\n",
      "1/1 [==============================] - 0s 40ms/step - loss: 0.3193 - accuracy: 0.8743 - val_loss: 0.3382 - val_accuracy: 0.8771\n",
      "Epoch 118/500\n",
      "1/1 [==============================] - 0s 36ms/step - loss: 0.3190 - accuracy: 0.8748 - val_loss: 0.3378 - val_accuracy: 0.8771\n",
      "Epoch 119/500\n",
      "1/1 [==============================] - 0s 35ms/step - loss: 0.3187 - accuracy: 0.8752 - val_loss: 0.3375 - val_accuracy: 0.8771\n",
      "Epoch 120/500\n",
      "1/1 [==============================] - 0s 37ms/step - loss: 0.3184 - accuracy: 0.8752 - val_loss: 0.3372 - val_accuracy: 0.8771\n",
      "Epoch 121/500\n",
      "1/1 [==============================] - 0s 35ms/step - loss: 0.3181 - accuracy: 0.8757 - val_loss: 0.3369 - val_accuracy: 0.8771\n",
      "Epoch 122/500\n",
      "1/1 [==============================] - 0s 35ms/step - loss: 0.3178 - accuracy: 0.8757 - val_loss: 0.3366 - val_accuracy: 0.8771\n",
      "Epoch 123/500\n",
      "1/1 [==============================] - 0s 40ms/step - loss: 0.3175 - accuracy: 0.8757 - val_loss: 0.3363 - val_accuracy: 0.8771\n",
      "Epoch 124/500\n",
      "1/1 [==============================] - 0s 36ms/step - loss: 0.3172 - accuracy: 0.8761 - val_loss: 0.3361 - val_accuracy: 0.8771\n",
      "Epoch 125/500\n",
      "1/1 [==============================] - 0s 39ms/step - loss: 0.3169 - accuracy: 0.8765 - val_loss: 0.3358 - val_accuracy: 0.8771\n",
      "Epoch 126/500\n",
      "1/1 [==============================] - 0s 35ms/step - loss: 0.3166 - accuracy: 0.8765 - val_loss: 0.3355 - val_accuracy: 0.8771\n",
      "Epoch 127/500\n",
      "1/1 [==============================] - 0s 34ms/step - loss: 0.3163 - accuracy: 0.8770 - val_loss: 0.3353 - val_accuracy: 0.8771\n",
      "Epoch 128/500\n",
      "1/1 [==============================] - 0s 39ms/step - loss: 0.3160 - accuracy: 0.8774 - val_loss: 0.3351 - val_accuracy: 0.8771\n",
      "Epoch 129/500\n",
      "1/1 [==============================] - 0s 35ms/step - loss: 0.3157 - accuracy: 0.8774 - val_loss: 0.3348 - val_accuracy: 0.8771\n",
      "Epoch 130/500\n",
      "1/1 [==============================] - 0s 40ms/step - loss: 0.3154 - accuracy: 0.8774 - val_loss: 0.3346 - val_accuracy: 0.8771\n",
      "Epoch 131/500\n",
      "1/1 [==============================] - 0s 36ms/step - loss: 0.3152 - accuracy: 0.8774 - val_loss: 0.3344 - val_accuracy: 0.8771\n",
      "Epoch 132/500\n",
      "1/1 [==============================] - 0s 36ms/step - loss: 0.3149 - accuracy: 0.8774 - val_loss: 0.3342 - val_accuracy: 0.8771\n",
      "Epoch 133/500\n",
      "1/1 [==============================] - 0s 37ms/step - loss: 0.3146 - accuracy: 0.8774 - val_loss: 0.3341 - val_accuracy: 0.8771\n",
      "Epoch 134/500\n",
      "1/1 [==============================] - 0s 34ms/step - loss: 0.3144 - accuracy: 0.8774 - val_loss: 0.3339 - val_accuracy: 0.8771\n",
      "Epoch 135/500\n",
      "1/1 [==============================] - 0s 36ms/step - loss: 0.3141 - accuracy: 0.8774 - val_loss: 0.3338 - val_accuracy: 0.8760\n",
      "Epoch 136/500\n",
      "1/1 [==============================] - 0s 37ms/step - loss: 0.3139 - accuracy: 0.8774 - val_loss: 0.3336 - val_accuracy: 0.8760\n",
      "Epoch 137/500\n",
      "1/1 [==============================] - 0s 35ms/step - loss: 0.3136 - accuracy: 0.8770 - val_loss: 0.3335 - val_accuracy: 0.8760\n",
      "Epoch 138/500\n",
      "1/1 [==============================] - 0s 37ms/step - loss: 0.3134 - accuracy: 0.8770 - val_loss: 0.3334 - val_accuracy: 0.8771\n",
      "Epoch 139/500\n",
      "1/1 [==============================] - 0s 36ms/step - loss: 0.3132 - accuracy: 0.8774 - val_loss: 0.3333 - val_accuracy: 0.8771\n",
      "Epoch 140/500\n",
      "1/1 [==============================] - 0s 36ms/step - loss: 0.3129 - accuracy: 0.8774 - val_loss: 0.3332 - val_accuracy: 0.8771\n",
      "Epoch 141/500\n",
      "1/1 [==============================] - 0s 36ms/step - loss: 0.3127 - accuracy: 0.8774 - val_loss: 0.3330 - val_accuracy: 0.8781\n",
      "Epoch 142/500\n",
      "1/1 [==============================] - 0s 36ms/step - loss: 0.3125 - accuracy: 0.8774 - val_loss: 0.3329 - val_accuracy: 0.8771\n",
      "Epoch 143/500\n",
      "1/1 [==============================] - 0s 37ms/step - loss: 0.3122 - accuracy: 0.8774 - val_loss: 0.3328 - val_accuracy: 0.8771\n",
      "Epoch 144/500\n",
      "1/1 [==============================] - 0s 36ms/step - loss: 0.3120 - accuracy: 0.8774 - val_loss: 0.3327 - val_accuracy: 0.8771\n",
      "Epoch 145/500\n",
      "1/1 [==============================] - 0s 36ms/step - loss: 0.3118 - accuracy: 0.8774 - val_loss: 0.3326 - val_accuracy: 0.8771\n",
      "Epoch 146/500\n",
      "1/1 [==============================] - 0s 35ms/step - loss: 0.3116 - accuracy: 0.8774 - val_loss: 0.3325 - val_accuracy: 0.8771\n",
      "Epoch 147/500\n",
      "1/1 [==============================] - 0s 35ms/step - loss: 0.3113 - accuracy: 0.8774 - val_loss: 0.3324 - val_accuracy: 0.8771\n",
      "Epoch 148/500\n",
      "1/1 [==============================] - 0s 38ms/step - loss: 0.3111 - accuracy: 0.8779 - val_loss: 0.3324 - val_accuracy: 0.8771\n",
      "Epoch 149/500\n",
      "1/1 [==============================] - 0s 39ms/step - loss: 0.3109 - accuracy: 0.8779 - val_loss: 0.3323 - val_accuracy: 0.8771\n",
      "Epoch 150/500\n",
      "1/1 [==============================] - 0s 34ms/step - loss: 0.3106 - accuracy: 0.8779 - val_loss: 0.3322 - val_accuracy: 0.8771\n",
      "Epoch 151/500\n",
      "1/1 [==============================] - 0s 38ms/step - loss: 0.3104 - accuracy: 0.8783 - val_loss: 0.3321 - val_accuracy: 0.8771\n",
      "Epoch 152/500\n",
      "1/1 [==============================] - 0s 34ms/step - loss: 0.3102 - accuracy: 0.8788 - val_loss: 0.3321 - val_accuracy: 0.8771\n",
      "Epoch 153/500\n",
      "1/1 [==============================] - 0s 35ms/step - loss: 0.3100 - accuracy: 0.8788 - val_loss: 0.3320 - val_accuracy: 0.8771\n",
      "Epoch 154/500\n",
      "1/1 [==============================] - 0s 38ms/step - loss: 0.3097 - accuracy: 0.8788 - val_loss: 0.3320 - val_accuracy: 0.8771\n",
      "Epoch 155/500\n",
      "1/1 [==============================] - 0s 34ms/step - loss: 0.3095 - accuracy: 0.8788 - val_loss: 0.3319 - val_accuracy: 0.8771\n",
      "Epoch 156/500\n",
      "1/1 [==============================] - 0s 34ms/step - loss: 0.3093 - accuracy: 0.8788 - val_loss: 0.3319 - val_accuracy: 0.8771\n",
      "Epoch 157/500\n",
      "1/1 [==============================] - 0s 38ms/step - loss: 0.3091 - accuracy: 0.8788 - val_loss: 0.3318 - val_accuracy: 0.8771\n",
      "Epoch 158/500\n",
      "1/1 [==============================] - 0s 34ms/step - loss: 0.3089 - accuracy: 0.8788 - val_loss: 0.3318 - val_accuracy: 0.8781\n",
      "Epoch 159/500\n",
      "1/1 [==============================] - 0s 37ms/step - loss: 0.3086 - accuracy: 0.8788 - val_loss: 0.3318 - val_accuracy: 0.8781\n",
      "Epoch 160/500\n",
      "1/1 [==============================] - 0s 34ms/step - loss: 0.3084 - accuracy: 0.8788 - val_loss: 0.3318 - val_accuracy: 0.8781\n",
      "Epoch 161/500\n",
      "1/1 [==============================] - 0s 34ms/step - loss: 0.3082 - accuracy: 0.8788 - val_loss: 0.3317 - val_accuracy: 0.8781\n",
      "Epoch 162/500\n",
      "1/1 [==============================] - 0s 39ms/step - loss: 0.3080 - accuracy: 0.8788 - val_loss: 0.3317 - val_accuracy: 0.8781\n",
      "Epoch 163/500\n",
      "1/1 [==============================] - 0s 35ms/step - loss: 0.3077 - accuracy: 0.8788 - val_loss: 0.3317 - val_accuracy: 0.8781\n",
      "Epoch 164/500\n",
      "1/1 [==============================] - 0s 35ms/step - loss: 0.3075 - accuracy: 0.8788 - val_loss: 0.3317 - val_accuracy: 0.8781\n",
      "Epoch 165/500\n",
      "1/1 [==============================] - 0s 40ms/step - loss: 0.3073 - accuracy: 0.8788 - val_loss: 0.3317 - val_accuracy: 0.8781\n",
      "Epoch 166/500\n",
      "1/1 [==============================] - 0s 35ms/step - loss: 0.3071 - accuracy: 0.8792 - val_loss: 0.3317 - val_accuracy: 0.8781\n",
      "Epoch 167/500\n",
      "1/1 [==============================] - 0s 38ms/step - loss: 0.3069 - accuracy: 0.8792 - val_loss: 0.3317 - val_accuracy: 0.8781\n",
      "Epoch 168/500\n",
      "1/1 [==============================] - 0s 35ms/step - loss: 0.3066 - accuracy: 0.8788 - val_loss: 0.3317 - val_accuracy: 0.8781\n",
      "Epoch 169/500\n",
      "1/1 [==============================] - 0s 35ms/step - loss: 0.3064 - accuracy: 0.8788 - val_loss: 0.3317 - val_accuracy: 0.8781\n"
     ]
    }
   ],
   "source": [
    "#识别RFM\n",
    "from keras.callbacks import EarlyStopping\n",
    "from keras.callbacks import ModelCheckpoint\n",
    "historyr=modelr.fit(trainr_LSTM_X, trainr_LSTM_y,epochs=500,batch_size=20000, validation_data=(valr_LSTM_X, valr_LSTM_y),callbacks=[EarlyStopping(monitor='val_loss', patience=4, verbose=0, mode='auto')])"
   ]
  },
  {
   "cell_type": "code",
   "execution_count": 29,
   "metadata": {
    "colab": {
     "base_uri": "https://localhost:8080/"
    },
    "id": "gLCxQgUtIV6A",
    "outputId": "03119620-da1f-4290-bb36-38ba4f0e2a8d"
   },
   "outputs": [
    {
     "name": "stdout",
     "output_type": "stream",
     "text": [
      "Saved modelr to disk\n"
     ]
    }
   ],
   "source": [
    "# save model and architecture to single file\n",
    "modelr.save('Save_Modelr.h5')\n",
    "print(\"Saved modelr to disk\")"
   ]
  },
  {
   "cell_type": "code",
   "execution_count": 30,
   "metadata": {
    "colab": {
     "base_uri": "https://localhost:8080/"
    },
    "id": "YZ58n-qPJEub",
    "outputId": "03586b8d-23b7-445c-c083-9697b5029abd",
    "scrolled": true
   },
   "outputs": [
    {
     "name": "stdout",
     "output_type": "stream",
     "text": [
      "Model: \"model\"\n",
      "_________________________________________________________________\n",
      " Layer (type)                Output Shape              Param #   \n",
      "=================================================================\n",
      " input_1 (InputLayer)        [(None, 1, 40)]           0         \n",
      "                                                                 \n",
      " lstm (LSTM)                 (None, 1, 50)             18200     \n",
      "                                                                 \n",
      " lstm_1 (LSTM)               (None, 50)                20200     \n",
      "                                                                 \n",
      " dense (Dense)               (None, 1)                 51        \n",
      "                                                                 \n",
      "=================================================================\n",
      "Total params: 38,451\n",
      "Trainable params: 38,451\n",
      "Non-trainable params: 0\n",
      "_________________________________________________________________\n"
     ]
    }
   ],
   "source": [
    "# load and evaluate a saved model\n",
    "from numpy import loadtxt\n",
    "from keras.models import load_model\n",
    " \n",
    "# load model\n",
    "modelr = load_model('Save_Modelr.h5')\n",
    "# summarize model.\n",
    "modelr.summary()"
   ]
  },
  {
   "cell_type": "code",
   "execution_count": 31,
   "metadata": {
    "colab": {
     "base_uri": "https://localhost:8080/"
    },
    "id": "CiztPr80KVrC",
    "outputId": "e547c845-1fc4-46d5-9a34-2912f396e8fe"
   },
   "outputs": [
    {
     "name": "stdout",
     "output_type": "stream",
     "text": [
      "Trainr: 0.879, Testr: 0.878\n"
     ]
    }
   ],
   "source": [
    "# evaluate the model\n",
    "_, trainr_acc = modelr.evaluate(trainr_LSTM_X, trainr_LSTM_y, verbose=0)\n",
    "_, testr_acc = modelr.evaluate(valr_LSTM_X, valr_LSTM_y, verbose=0)\n",
    "print('Trainr: %.3f, Testr: %.3f' % (trainr_acc, testr_acc))"
   ]
  },
  {
   "cell_type": "code",
   "execution_count": 32,
   "metadata": {
    "colab": {
     "base_uri": "https://localhost:8080/",
     "height": 281
    },
    "id": "-7eSnOfXKqLB",
    "outputId": "dbf9c2f6-dabb-4682-a22d-1047b6a43adf"
   },
   "outputs": [
    {
     "data": {
      "image/png": "[encoded data removed]",
      "text/plain": [
       "<Figure size 640x480 with 2 Axes>"
      ]
     },
     "metadata": {},
     "output_type": "display_data"
    }
   ],
   "source": [
    "# plot loss during training\n",
    "pyplot.subplot(211)\n",
    "pyplot.title('Loss')\n",
    "pyplot.plot(historyr.history['loss'], label='train')\n",
    "pyplot.plot(historyr.history['val_loss'], label='test')\n",
    "pyplot.legend()\n",
    "# plot accuracy during training\n",
    "pyplot.subplot(212)\n",
    "pyplot.title('Accuracy')\n",
    "pyplot.plot(historyr.history['accuracy'], label='train')\n",
    "pyplot.plot(historyr.history['val_accuracy'], label='test')\n",
    "pyplot.legend()\n",
    "pyplot.show()"
   ]
  },
  {
   "cell_type": "code",
   "execution_count": 33,
   "metadata": {
    "id": "PuPufKYjKwmR"
   },
   "outputs": [],
   "source": [
    "# predict probabilities for test set\n",
    "yhatr_probs = modelr.predict(valr_LSTM_X, verbose=0)\n",
    "# reduce to 1d array\n",
    "yhatr_probs = yhatr_probs[:, 0]\n",
    "# val_LSTM_y = list(val_LSTM_y)"
   ]
  },
  {
   "cell_type": "code",
   "execution_count": 34,
   "metadata": {
    "colab": {
     "base_uri": "https://localhost:8080/"
    },
    "id": "JqvJ1Y4-K9Uz",
    "outputId": "16b8b1f4-6599-44d3-da52-fefecb9cdc15"
   },
   "outputs": [
    {
     "name": "stdout",
     "output_type": "stream",
     "text": [
      "<class 'pandas.core.series.Series'>\n",
      "0      0\n",
      "1      0\n",
      "2      0\n",
      "3      0\n",
      "4      0\n",
      "      ..\n",
      "963    1\n",
      "964    1\n",
      "965    1\n",
      "966    1\n",
      "967    1\n",
      "Name: 该订单是否被退款, Length: 968, dtype: int64\n",
      "<class 'numpy.ndarray'>\n",
      "[0.15564573 0.07295313 0.15564573 0.15564573 0.1846372  0.15564573\n",
      " 0.31506062 0.15564573 0.1038832  0.14212869 0.1993121  0.15564573\n",
      " 0.23027733 0.15564573 0.15564573 0.18673037 0.6073402  0.4054326\n",
      " 0.16956986 0.19131011 0.13011436 0.21870635 0.05181462 0.15564573\n",
      " 0.22216761 0.10467103 0.13649915 0.15564573 0.15564573 0.09377875\n",
      " 0.27743816 0.16288616 0.29050383 0.15841003 0.15564573 0.09703329\n",
      " 0.15564573 0.10265369 0.09107811 0.1614817  0.084988   0.15564573\n",
      " 0.1160198  0.15564573 0.12287649 0.8186811  0.15564573 0.15822613\n",
      " 0.6862643  0.15564573 0.12270245 0.12446275 0.15564573 0.15564573\n",
      " 0.11066654 0.15564573 0.10637514 0.15564573 0.08542501 0.15564573\n",
      " 0.5323541  0.26312083 0.35751906 0.15564573 0.18173037 0.19031563\n",
      " 0.05485122 0.13635452 0.27628604 0.1108028  0.15564573 0.15564573\n",
      " 0.15564573 0.06822952 0.14766331 0.15564573 0.13233888 0.15564573\n",
      " 0.15564573 0.15564573 0.15392601 0.22957788 0.15564573 0.11393805\n",
      " 0.1526078  0.09105434 0.09901741 0.15801945 0.10667858 0.15564573\n",
      " 0.15564573 0.07060622 0.10885405 0.9831208  0.15564573 0.10158128\n",
      " 0.26978645 0.7158584  0.15564573 0.1275627  0.2289741  0.3941759\n",
      " 0.06111154 0.17355667 0.22743969 0.15564573 0.15564573 0.11292198\n",
      " 0.07441249 0.1662391  0.2626914  0.15564573 0.16303207 0.15564573\n",
      " 0.07608575 0.08822139 0.15564573 0.15564573 0.15564573 0.08017404\n",
      " 0.19802171 0.17239788 0.31936553 0.17653872 0.15564573 0.0618785\n",
      " 0.08876196 0.15564573 0.15564573 0.20781197 0.99626726 0.08106399\n",
      " 0.10428786 0.17211407 0.11371639 0.19518125 0.3923896  0.15564573\n",
      " 0.45460784 0.15564573 0.55873823 0.11826774 0.23912895 0.15564573\n",
      " 0.10758934 0.11983383 0.21455194 0.09576078 0.12140883 0.1366856\n",
      " 0.21707872 0.15564573 0.23292483 0.15564573 0.1378301  0.06977385\n",
      " 0.15564573 0.11529531 0.16809003 0.14266808 0.07923636 0.15564573\n",
      " 0.18515466 0.19688605 0.2172311  0.15564573 0.15564573 0.32742026\n",
      " 0.12534691 0.15564573 0.09150721 0.16577333 0.15564573 0.06525218\n",
      " 0.23814408 0.08295073 0.15564573 0.3101811  0.07212272 0.15564573\n",
      " 0.05954925 0.15564573 0.15564573 0.06043781 0.15955105 0.11592467\n",
      " 0.08536747 0.10714684 0.15564573 0.08206467 0.03806786 0.15564573\n",
      " 0.21321516 0.4123584  0.2354836  0.12585138 0.15564573 0.15564573\n",
      " 0.17919081 0.10989775 0.23644513 0.15564573 0.16663814 0.15564573\n",
      " 0.35506183 0.07955389 0.09705437 0.15564573 0.15564573 0.07053365\n",
      " 0.15564573 0.21578099 0.9716461  0.13673732 0.15233153 0.15564573\n",
      " 0.09528376 0.1779057  0.15564573 0.07675085 0.16081055 0.15564573\n",
      " 0.07797051 0.21505615 0.15233934 0.10242664 0.29282716 0.11085867\n",
      " 0.38393217 0.6645857  0.79794663 0.43939933 0.21843494 0.09341634\n",
      " 0.25197285 0.22360666 0.15564573 0.2693982  0.15564573 0.09891102\n",
      " 0.05452581 0.26084056 0.15564573 0.16159709 0.26386872 0.15564573\n",
      " 0.20221643 0.18685178 0.04647294 0.17404765 0.14029172 0.15564573\n",
      " 0.15398638 0.15564573 0.15195003 0.15564573 0.15564573 0.16623357\n",
      " 0.15564573 0.07997984 0.15564573 0.08467721 0.07478563 0.27917534\n",
      " 0.2754995  0.15336259 0.11646091 0.15564573 0.18097115 0.08179432\n",
      " 0.37763476 0.05627779 0.09646946 0.10324785 0.15564573 0.19451243\n",
      " 0.7269558  0.15564573 0.18637085 0.9940353  0.15564573 0.15564573\n",
      " 0.15564573 0.15564573 0.1743765  0.08190855 0.16234781 0.099112\n",
      " 0.15564573 0.07012346 0.0925798  0.15564573 0.30602917 0.99459773\n",
      " 0.19977887 0.10184252 0.21558625 0.09761598 0.18158564 0.15649867\n",
      " 0.40148416 0.15564573 0.10566106 0.3022659  0.15564573 0.16010658\n",
      " 0.17366484 0.10366377 0.20152698 0.15564573 0.1472497  0.09578338\n",
      " 0.10619522 0.15564573 0.15564573 0.1675815  0.22643873 0.15564573\n",
      " 0.15564573 0.15564573 0.15564573 0.23475046 0.08404107 0.29763845\n",
      " 0.15564573 0.15564573 0.76899844 0.15564573 0.15564573 0.25614777\n",
      " 0.15564573 0.21307415 0.17140415 0.10742971 0.3108725  0.15564573\n",
      " 0.78273296 0.15564573 0.16381437 0.15564573 0.13542685 0.1754539\n",
      " 0.11515461 0.18013935 0.15564573 0.09843155 0.28561687 0.09446628\n",
      " 0.15564573 0.2043827  0.16222666 0.15564573 0.08310135 0.628724\n",
      " 0.15564573 0.29109943 0.15564573 0.15564573 0.08197939 0.15564573\n",
      " 0.25779945 0.16811652 0.15564573 0.1430144  0.15564573 0.0649996\n",
      " 0.128228   0.09159303 0.15564573 0.15564573 0.1652134  0.15564573\n",
      " 0.25042436 0.15564573 0.28611422 0.15564573 0.15564573 0.06983951\n",
      " 0.13637352 0.15564573 0.96856713 0.15564573 0.15564573 0.15564573\n",
      " 0.21939427 0.20461561 0.22596419 0.20394635 0.15564573 0.03900878\n",
      " 0.3323256  0.10643751 0.15564573 0.1776516  0.12256776 0.15564573\n",
      " 0.12096757 0.15564573 0.15564573 0.15564573 0.15564573 0.14161511\n",
      " 0.15564573 0.16025642 0.15564573 0.15564573 0.11927169 0.15564573\n",
      " 0.19184914 0.15564573 0.15564573 0.11319251 0.25167933 0.1742317\n",
      " 0.15564573 0.15564573 0.20454618 0.12855361 0.15564573 0.8211132\n",
      " 0.15564573 0.15564573 0.15564573 0.30016384 0.22481188 0.15564573\n",
      " 0.15564573 0.15564573 0.15564573 0.15178968 0.07541611 0.15564573\n",
      " 0.06035478 0.15564573 0.13434634 0.68137014 0.21537285 0.07869232\n",
      " 0.15564573 0.15564573 0.15564573 0.15356581 0.15564573 0.06617604\n",
      " 0.08588175 0.17698464 0.15564573 0.23591784 0.1563733  0.15564573\n",
      " 0.1640403  0.12550205 0.15542369 0.25963926 0.686912   0.15564573\n",
      " 0.06221711 0.18227218 0.15564573 0.07001019 0.190654   0.15564573\n",
      " 0.15564573 0.2152491  0.07475179 0.13912374 0.30655968 0.15564573\n",
      " 0.17014582 0.06497835 0.15564573 0.15564573 0.19293761 0.23995556\n",
      " 0.06953514 0.15564573 0.13706824 0.15762314 0.14921354 0.25716114\n",
      " 0.06326496 0.15564573 0.19601578 0.15564573 0.99748945 0.9983091\n",
      " 0.9967698  0.9948052  0.998103   0.16415502 0.9947187  0.15564573\n",
      " 0.99666274 0.7700108  0.99297386 0.96077675 0.07786593 0.9946372\n",
      " 0.15564573 0.7978108  0.8734543  0.9720241  0.3388416  0.9683902\n",
      " 0.99608266 0.9979889  0.84404206 0.7957639  0.99800557 0.99826556\n",
      " 0.9562007  0.9563903  0.9967328  0.7510902  0.95989126 0.9954848\n",
      " 0.98970807 0.9907217  0.997188   0.9639338  0.98001677 0.9975224\n",
      " 0.9952271  0.99802643 0.9783178  0.9380847  0.99762064 0.99780613\n",
      " 0.9074238  0.9937046  0.9975493  0.15564573 0.99601084 0.9980748\n",
      " 0.87111133 0.9914267  0.9711091  0.62027645 0.8414668  0.9952054\n",
      " 0.15564573 0.9296408  0.9982089  0.9975847  0.98833907 0.9972316\n",
      " 0.9945484  0.9918813  0.99802715 0.97302115 0.9973494  0.99505067\n",
      " 0.9765145  0.9944038  0.15564573 0.9941671  0.99827456 0.9768252\n",
      " 0.9967749  0.9926282  0.9983645  0.9982419  0.9980623  0.15564573\n",
      " 0.6916009  0.9972969  0.99765223 0.7608823  0.24777655 0.15564573\n",
      " 0.9625777  0.9944695  0.15564573 0.99826974 0.9954621  0.9982604\n",
      " 0.15564573 0.3135117  0.9965281  0.9980655  0.99457717 0.9976782\n",
      " 0.99757785 0.6904611  0.9922459  0.9200216  0.99707705 0.99742377\n",
      " 0.6482179  0.98151916 0.8233457  0.99687433 0.98697907 0.9392722\n",
      " 0.15564573 0.4808559  0.9689846  0.9977309  0.99758893 0.99802524\n",
      " 0.9980543  0.15564573 0.14337914 0.99489784 0.9945105  0.99830896\n",
      " 0.9769857  0.9898524  0.9963341  0.9824542  0.9942953  0.9972124\n",
      " 0.99759644 0.9972491  0.0590452  0.15564573 0.9475981  0.99758065\n",
      " 0.901977   0.99683964 0.90416014 0.9980275  0.90853316 0.7026793\n",
      " 0.14674793 0.15564573 0.9713339  0.9980415  0.99611837 0.15564573\n",
      " 0.98838294 0.99829453 0.20433936 0.9933422  0.9945651  0.99750847\n",
      " 0.9931132  0.9957403  0.9922608  0.9966154  0.9961614  0.95244396\n",
      " 0.9778547  0.9919993  0.15564573 0.26499423 0.9933706  0.8520129\n",
      " 0.9925611  0.8074003  0.9796224  0.7902082  0.99673265 0.958772\n",
      " 0.6390087  0.9851178  0.08345786 0.911882   0.96401405 0.9547697\n",
      " 0.9950252  0.9968583  0.15564573 0.9954093  0.10219596 0.15564573\n",
      " 0.9179644  0.91689855 0.9943399  0.99314135 0.87479544 0.9898315\n",
      " 0.99301946 0.9979881  0.5332072  0.9970247  0.95304376 0.9665293\n",
      " 0.9379375  0.9750047  0.15564573 0.944425   0.99730545 0.9654838\n",
      " 0.17159536 0.99745834 0.15564573 0.99668545 0.9706072  0.15564573\n",
      " 0.8991637  0.9967885  0.99552226 0.10648936 0.6537066  0.9974626\n",
      " 0.9525422  0.19111383 0.9451039  0.9941814  0.9981777  0.94284874\n",
      " 0.99621236 0.99770916 0.8915991  0.94697523 0.05121497 0.15564573\n",
      " 0.9767521  0.9967971  0.9957487  0.12345289 0.99829996 0.15636028\n",
      " 0.9954099  0.15564573 0.98001975 0.98002684 0.9979999  0.9976999\n",
      " 0.97775024 0.99529713 0.99756867 0.9911439  0.15564573 0.99758506\n",
      " 0.2738034  0.99766654 0.9176809  0.99760234 0.9959597  0.9951376\n",
      " 0.98227507 0.99756896 0.15564573 0.15564573 0.99377424 0.9966596\n",
      " 0.831196   0.97141415 0.9410504  0.31059986 0.5247916  0.15564573\n",
      " 0.9910506  0.14121015 0.15564573 0.92795795 0.98816556 0.8928717\n",
      " 0.15564573 0.3358038  0.5577772  0.9651585  0.9983652  0.91495514\n",
      " 0.99599147 0.99477476 0.78118676 0.9513373  0.43290362 0.99409616\n",
      " 0.9976339  0.7078242  0.96330017 0.9306159  0.7066399  0.99831533\n",
      " 0.99574786 0.19437632 0.99819696 0.96584904 0.99475044 0.9261829\n",
      " 0.95816827 0.99741143 0.99794537 0.9970002  0.9981995  0.9980608\n",
      " 0.989947   0.99806887 0.21853276 0.99432564 0.99199945 0.99599856\n",
      " 0.9343521  0.99757534 0.9759324  0.77508944 0.16099738 0.95982134\n",
      " 0.9957441  0.9967887  0.15564573 0.9471375  0.97893316 0.214633\n",
      " 0.959675   0.95496994 0.99725175 0.9793793  0.9738024  0.9939743\n",
      " 0.99803543 0.9938969  0.991227   0.99750644 0.15564573 0.99834263\n",
      " 0.15564573 0.99335015 0.0974296  0.99159336 0.99780756 0.83256644\n",
      " 0.9851725  0.9934817  0.15564573 0.99530095 0.98925585 0.1696524\n",
      " 0.78436947 0.9966951  0.9928584  0.15564573 0.9944475  0.99313813\n",
      " 0.954549   0.99825245 0.15564573 0.15564573 0.9362155  0.22194359\n",
      " 0.15564573 0.15564573 0.15564573 0.9980109  0.7036159  0.9969042\n",
      " 0.99764454 0.7618844  0.9953218  0.996014   0.9790429  0.997331\n",
      " 0.9951284  0.99836195 0.9975363  0.9983344  0.94452447 0.99421704\n",
      " 0.15564573 0.99787706 0.99832076 0.16241442 0.990647   0.98418844\n",
      " 0.9975263  0.9909526  0.9982324  0.15564573 0.9974467  0.9966507\n",
      " 0.96225244 0.25239766 0.9085346  0.07069196 0.91886395 0.97069514\n",
      " 0.9975845  0.927022   0.9976472  0.15564573 0.99783117 0.9983469\n",
      " 0.11381073 0.9199246  0.9534063  0.2478146  0.16554102 0.12570202\n",
      " 0.9964264  0.9530322  0.79188    0.93952745 0.9970183  0.9907811\n",
      " 0.9892739  0.99816054 0.93883955 0.15564573 0.94564986 0.9809683\n",
      " 0.97681737 0.9668805  0.97741866 0.9150851  0.99715596 0.9970155\n",
      " 0.91053504 0.97490525 0.15564573 0.99832034 0.17471121 0.9729564\n",
      " 0.99701774 0.99341697 0.99802476 0.90193003 0.767906   0.99836284\n",
      " 0.15564573 0.99774873 0.23520708 0.9349227  0.15564573 0.99382234\n",
      " 0.26339194 0.99749    0.9906416  0.998025   0.8796361  0.15564573\n",
      " 0.8514992  0.15564573 0.9948966  0.99772054 0.10073869 0.993538\n",
      " 0.9935784  0.99320745 0.9893761  0.9974852  0.80175996 0.9982091\n",
      " 0.993661   0.9983653  0.17089935 0.91726303 0.27867144 0.9973194\n",
      " 0.9983369  0.86414546 0.9975216  0.91193306 0.9869269  0.998348\n",
      " 0.99756056 0.15564573 0.15564573 0.9965843  0.29786253 0.25183797\n",
      " 0.9977713  0.15564573 0.9559077  0.15564573 0.9947392  0.9590536\n",
      " 0.99806213 0.9754827  0.90306795 0.99627244 0.83394223 0.97865844\n",
      " 0.9843755  0.9940997 ]\n",
      "[0, 0, 0, 0, 0, 0, 0, 0, 0, 0, 0, 0, 0, 0, 0, 0, 1, 0, 0, 0, 0, 0, 0, 0, 0, 0, 0, 0, 0, 0, 0, 0, 0, 0, 0, 0, 0, 0, 0, 0, 0, 0, 0, 0, 0, 1, 0, 0, 1, 0, 0, 0, 0, 0, 0, 0, 0, 0, 0, 0, 1, 0, 0, 0, 0, 0, 0, 0, 0, 0, 0, 0, 0, 0, 0, 0, 0, 0, 0, 0, 0, 0, 0, 0, 0, 0, 0, 0, 0, 0, 0, 0, 0, 1, 0, 0, 0, 1, 0, 0, 0, 0, 0, 0, 0, 0, 0, 0, 0, 0, 0, 0, 0, 0, 0, 0, 0, 0, 0, 0, 0, 0, 0, 0, 0, 0, 0, 0, 0, 0, 1, 0, 0, 0, 0, 0, 0, 0, 0, 0, 1, 0, 0, 0, 0, 0, 0, 0, 0, 0, 0, 0, 0, 0, 0, 0, 0, 0, 0, 0, 0, 0, 0, 0, 0, 0, 0, 0, 0, 0, 0, 0, 0, 0, 0, 0, 0, 0, 0, 0, 0, 0, 0, 0, 0, 0, 0, 0, 0, 0, 0, 0, 0, 0, 0, 0, 0, 0, 0, 0, 0, 0, 0, 0, 0, 0, 0, 0, 0, 0, 0, 0, 1, 0, 0, 0, 0, 0, 0, 0, 0, 0, 0, 0, 0, 0, 0, 0, 0, 1, 1, 0, 0, 0, 0, 0, 0, 0, 0, 0, 0, 0, 0, 0, 0, 0, 0, 0, 0, 0, 0, 0, 0, 0, 0, 0, 0, 0, 0, 0, 0, 0, 0, 0, 0, 0, 0, 0, 0, 0, 0, 0, 0, 0, 0, 0, 1, 0, 0, 1, 0, 0, 0, 0, 0, 0, 0, 0, 0, 0, 0, 0, 0, 1, 0, 0, 0, 0, 0, 0, 0, 0, 0, 0, 0, 0, 0, 0, 0, 0, 0, 0, 0, 0, 0, 0, 0, 0, 0, 0, 0, 0, 0, 0, 0, 0, 1, 0, 0, 0, 0, 0, 0, 0, 0, 0, 1, 0, 0, 0, 0, 0, 0, 0, 0, 0, 0, 0, 0, 0, 0, 0, 0, 1, 0, 0, 0, 0, 0, 0, 0, 0, 0, 0, 0, 0, 0, 0, 0, 0, 0, 0, 0, 0, 0, 0, 0, 0, 0, 0, 1, 0, 0, 0, 0, 0, 0, 0, 0, 0, 0, 0, 0, 0, 0, 0, 0, 0, 0, 0, 0, 0, 0, 0, 0, 0, 0, 0, 0, 0, 0, 0, 0, 0, 0, 0, 0, 0, 0, 1, 0, 0, 0, 0, 0, 0, 0, 0, 0, 0, 0, 0, 0, 0, 0, 1, 0, 0, 0, 0, 0, 0, 0, 0, 0, 0, 0, 0, 0, 0, 0, 0, 0, 0, 1, 0, 0, 0, 0, 0, 0, 0, 0, 0, 0, 0, 0, 0, 0, 0, 0, 0, 0, 0, 0, 0, 0, 0, 0, 0, 0, 0, 0, 0, 1, 1, 1, 1, 1, 0, 1, 0, 1, 1, 1, 1, 0, 1, 0, 1, 1, 1, 0, 1, 1, 1, 1, 1, 1, 1, 1, 1, 1, 1, 1, 1, 1, 1, 1, 1, 1, 1, 1, 1, 1, 1, 1, 1, 1, 1, 1, 0, 1, 1, 1, 1, 1, 1, 1, 1, 0, 1, 1, 1, 1, 1, 1, 1, 1, 1, 1, 1, 1, 1, 0, 1, 1, 1, 1, 1, 1, 1, 1, 0, 1, 1, 1, 1, 0, 0, 1, 1, 0, 1, 1, 1, 0, 0, 1, 1, 1, 1, 1, 1, 1, 1, 1, 1, 1, 1, 1, 1, 1, 1, 0, 0, 1, 1, 1, 1, 1, 0, 0, 1, 1, 1, 1, 1, 1, 1, 1, 1, 1, 1, 0, 0, 1, 1, 1, 1, 1, 1, 1, 1, 0, 0, 1, 1, 1, 0, 1, 1, 0, 1, 1, 1, 1, 1, 1, 1, 1, 1, 1, 1, 0, 0, 1, 1, 1, 1, 1, 1, 1, 1, 1, 1, 0, 1, 1, 1, 1, 1, 0, 1, 0, 0, 1, 1, 1, 1, 1, 1, 1, 1, 1, 1, 1, 1, 1, 1, 0, 1, 1, 1, 0, 1, 0, 1, 1, 0, 1, 1, 1, 0, 1, 1, 1, 0, 1, 1, 1, 1, 1, 1, 1, 1, 0, 0, 1, 1, 1, 0, 1, 0, 1, 0, 1, 1, 1, 1, 1, 1, 1, 1, 0, 1, 0, 1, 1, 1, 1, 1, 1, 1, 0, 0, 1, 1, 1, 1, 1, 0, 1, 0, 1, 0, 0, 1, 1, 1, 0, 0, 1, 1, 1, 1, 1, 1, 1, 1, 0, 1, 1, 1, 1, 1, 1, 1, 1, 0, 1, 1, 1, 1, 1, 1, 1, 1, 1, 1, 1, 1, 0, 1, 1, 1, 1, 1, 1, 1, 0, 1, 1, 1, 0, 1, 1, 0, 1, 1, 1, 1, 1, 1, 1, 1, 1, 1, 0, 1, 0, 1, 0, 1, 1, 1, 1, 1, 0, 1, 1, 0, 1, 1, 1, 0, 1, 1, 1, 1, 0, 0, 1, 0, 0, 0, 0, 1, 1, 1, 1, 1, 1, 1, 1, 1, 1, 1, 1, 1, 1, 1, 0, 1, 1, 0, 1, 1, 1, 1, 1, 0, 1, 1, 1, 0, 1, 0, 1, 1, 1, 1, 1, 0, 1, 1, 0, 1, 1, 0, 0, 0, 1, 1, 1, 1, 1, 1, 1, 1, 1, 0, 1, 1, 1, 1, 1, 1, 1, 1, 1, 1, 0, 1, 0, 1, 1, 1, 1, 1, 1, 1, 0, 1, 0, 1, 0, 1, 0, 1, 1, 1, 1, 0, 1, 0, 1, 1, 0, 1, 1, 1, 1, 1, 1, 1, 1, 1, 0, 1, 0, 1, 1, 1, 1, 1, 1, 1, 1, 0, 0, 1, 0, 0, 1, 0, 1, 0, 1, 1, 1, 1, 1, 1, 1, 1, 1, 1]\n"
     ]
    }
   ],
   "source": [
    "print(type(valr_LSTM_y))\n",
    "print(valr_LSTM_y)\n",
    "print(type(yhatr_probs))\n",
    "print(yhatr_probs)\n",
    "yhatr_probs = [1 if x > 0.5 else 0 for x in yhatr_probs]\n",
    "print(yhatr_probs)"
   ]
  },
  {
   "cell_type": "code",
   "execution_count": 38,
   "metadata": {
    "colab": {
     "base_uri": "https://localhost:8080/"
    },
    "id": "zdq1ag6yMgzp",
    "outputId": "a4a141d5-4670-458f-b6ce-3cb9c7ece7d6"
   },
   "outputs": [
    {
     "name": "stdout",
     "output_type": "stream",
     "text": [
      "Accuracyr: 0.878099\n",
      "Precisionr: 0.948529\n",
      "Recallr: 0.799587\n",
      "f1r: 0.867713\n"
     ]
    }
   ],
   "source": [
    "#----------------------------------------------------\n",
    "# accuracy: (tp + tn) / (p + n)\n",
    "from sklearn.metrics import precision_score\n",
    "from sklearn.metrics import recall_score\n",
    "from sklearn.metrics import f1_score\n",
    "\n",
    "accuracyr = accuracy_score(valr_LSTM_y, yhatr_probs)\n",
    "print('Accuracyr: %f' % accuracyr)\n",
    "# precision tp / (tp + fp)\n",
    "precisionr = precision_score(valr_LSTM_y, yhatr_probs)\n",
    "print('Precisionr: %f' % precisionr)\n",
    "# recall: tp / (tp + fn)\n",
    "recallr = recall_score(valr_LSTM_y, yhatr_probs)\n",
    "print('Recallr: %f' % recallr)\n",
    "f1r = f1_score(valr_LSTM_y, yhatr_probs)\n",
    "print('f1r: %f' % f1r)"
   ]
  },
  {
   "cell_type": "code",
   "execution_count": 51,
   "metadata": {
    "colab": {
     "base_uri": "https://localhost:8080/",
     "height": 295
    },
    "id": "CeYwMf_hMmmm",
    "outputId": "35bf1421-6b51-4288-8666-a0118ca1c854",
    "scrolled": true
   },
   "outputs": [
    {
     "data": {
      "image/png": "[encoded data removed]",
      "text/plain": [
       "<Figure size 640x480 with 1 Axes>"
      ]
     },
     "metadata": {},
     "output_type": "display_data"
    }
   ],
   "source": [
    "\n",
    "#----------------------------------------------------\n",
    "#----------------------------------------------------\n",
    "from sklearn.metrics import auc\n",
    "import matplotlib.pyplot as plt\n",
    "\n",
    "fprr, tprr, thersholdsr = roc_curve(valr_LSTM_y, yhatr_probs)\n",
    "roc_aucr = auc(fprr, tprr)\n",
    "\n",
    "plt.plot(fprr, tprr, 'k--', label='ROC (RFM+LSTM AUC = {0:.4f})'.format(roc_aucr), lw=2)\n",
    "\n",
    "plt.xlabel('False Positive Rate')\n",
    "plt.ylabel('True Positive Rate')\n",
    "plt.title('ROC Curve')\n",
    "plt.legend(loc=\"lower right\")\n",
    "plt.show()"
   ]
  },
  {
   "cell_type": "markdown",
   "metadata": {
    "id": "qk9LSNf_iBSF"
   },
   "source": [
    "# **CNN**"
   ]
  },
  {
   "cell_type": "code",
   "execution_count": 52,
   "metadata": {
    "colab": {
     "base_uri": "https://localhost:8080/"
    },
    "id": "B1bbKXGeiHK2",
    "outputId": "c89e897d-d957-44aa-9ff8-179dec313e9a"
   },
   "outputs": [
    {
     "name": "stdout",
     "output_type": "stream",
     "text": [
      "2.11.0\n"
     ]
    }
   ],
   "source": [
    "import tensorflow as tf\n",
    "from tensorflow import keras\n",
    "from tensorflow.keras import Sequential\n",
    "from tensorflow.keras.layers import Flatten, Dense, Dropout, BatchNormalization, Conv1D, MaxPool1D\n",
    "\n",
    "from tensorflow.keras.optimizers import Adam\n",
    "print(tf.__version__)"
   ]
  },
  {
   "cell_type": "code",
   "execution_count": 55,
   "metadata": {
    "colab": {
     "base_uri": "https://localhost:8080/"
    },
    "id": "rjXNOuYgkbBG",
    "outputId": "c3e3bb41-8d26-42a6-d907-329c6fe60d52"
   },
   "outputs": [
    {
     "name": "stdout",
     "output_type": "stream",
     "text": [
      "Done!\n"
     ]
    }
   ],
   "source": [
    "import pandas as pd\n",
    "import numpy as np\n",
    "import seaborn as sns\n",
    "import matplotlib.pyplot as plt\n",
    "\n",
    "from sklearn.model_selection import train_test_split\n",
    "from sklearn.preprocessing import StandardScaler\n",
    "print('Done!')"
   ]
  },
  {
   "cell_type": "code",
   "execution_count": 56,
   "metadata": {
    "colab": {
     "base_uri": "https://localhost:8080/"
    },
    "id": "hpPPqKtIvcES",
    "outputId": "4d6850db-97fe-4baf-c094-f7c0c7d14a22"
   },
   "outputs": [
    {
     "data": {
      "text/plain": [
       "((2260, 40), (968, 40), (2260,), (968,))"
      ]
     },
     "execution_count": 56,
     "metadata": {},
     "output_type": "execute_result"
    }
   ],
   "source": [
    "Xr_train.shape, Xr_test.shape, yr_train.shape, yr_test.shape"
   ]
  },
  {
   "cell_type": "code",
   "execution_count": 73,
   "metadata": {
    "colab": {
     "base_uri": "https://localhost:8080/"
    },
    "id": "UFnoza2pwMKb",
    "outputId": "9f7ad96e-d1a7-451a-827b-5392315391f8"
   },
   "outputs": [
    {
     "data": {
      "text/plain": [
       "((2260, 40, 1), (968, 40, 1))"
      ]
     },
     "execution_count": 73,
     "metadata": {},
     "output_type": "execute_result"
    }
   ],
   "source": [
    "# We have to reshape into a 3Dimensional object the X_train and X_test\n",
    "Xrr_train = Xr_train.reshape(Xr_train.shape[0], Xr_train.shape[1], 1)\n",
    "Xrr_test = Xr_test.reshape(Xr_test.shape[0], Xr_test.shape[1], 1)\n",
    "\n",
    "Xrr_train.shape, Xrr_test.shape"
   ]
  },
  {
   "cell_type": "code",
   "execution_count": 58,
   "metadata": {
    "id": "1jP1izIkklnm"
   },
   "outputs": [],
   "source": [
    "from keras import regularizers"
   ]
  },
  {
   "cell_type": "code",
   "execution_count": 85,
   "metadata": {
    "id": "g7RpeOXjvrDD"
   },
   "outputs": [],
   "source": [
    "epochs = 100\n",
    "modelrcnn = Sequential()\n",
    "modelrcnn.add(Conv1D(32, 2, activation='relu', input_shape = Xrr_train[0].shape\n",
    "                 ,kernel_regularizer = keras.regularizers.l2(0.0001)))\n",
    "modelrcnn.add(BatchNormalization())\n",
    "modelrcnn.add(Dropout(0.3))\n",
    "\n",
    "modelrcnn.add(Conv1D(64, 2, activation='relu',kernel_regularizer = keras.regularizers.l2(0.0001)))\n",
    "modelrcnn.add(BatchNormalization())\n",
    "modelrcnn.add(Dropout(0.3))\n",
    "\n",
    "modelrcnn.add(Flatten())\n",
    "modelrcnn.add(Dense(64, activation='relu',kernel_regularizer = keras.regularizers.l2(0.0001)))\n",
    "modelrcnn.add(Dropout(0.5))\n",
    "\n",
    "modelrcnn.add(Dense(1, activation='sigmoid'))"
   ]
  },
  {
   "cell_type": "code",
   "execution_count": 86,
   "metadata": {
    "colab": {
     "base_uri": "https://localhost:8080/"
    },
    "id": "Jcjm3bzckqHR",
    "outputId": "75fcc814-ced0-48b6-808a-0f0c1dac9c00",
    "scrolled": true
   },
   "outputs": [
    {
     "name": "stdout",
     "output_type": "stream",
     "text": [
      "Model: \"sequential_1\"\n",
      "_________________________________________________________________\n",
      " Layer (type)                Output Shape              Param #   \n",
      "=================================================================\n",
      " conv1d_2 (Conv1D)           (None, 39, 32)            96        \n",
      "                                                                 \n",
      " batch_normalization_2 (Batc  (None, 39, 32)           128       \n",
      " hNormalization)                                                 \n",
      "                                                                 \n",
      " dropout_3 (Dropout)         (None, 39, 32)            0         \n",
      "                                                                 \n",
      " conv1d_3 (Conv1D)           (None, 38, 64)            4160      \n",
      "                                                                 \n",
      " batch_normalization_3 (Batc  (None, 38, 64)           256       \n",
      " hNormalization)                                                 \n",
      "                                                                 \n",
      " dropout_4 (Dropout)         (None, 38, 64)            0         \n",
      "                                                                 \n",
      " flatten_1 (Flatten)         (None, 2432)              0         \n",
      "                                                                 \n",
      " dense_3 (Dense)             (None, 64)                155712    \n",
      "                                                                 \n",
      " dropout_5 (Dropout)         (None, 64)                0         \n",
      "                                                                 \n",
      " dense_4 (Dense)             (None, 1)                 65        \n",
      "                                                                 \n",
      "=================================================================\n",
      "Total params: 160,417\n",
      "Trainable params: 160,225\n",
      "Non-trainable params: 192\n",
      "_________________________________________________________________\n"
     ]
    }
   ],
   "source": [
    "modelrcnn.summary()"
   ]
  },
  {
   "cell_type": "code",
   "execution_count": 87,
   "metadata": {
    "colab": {
     "base_uri": "https://localhost:8080/"
    },
    "id": "GIuCCjoRkrrB",
    "outputId": "469de09a-e9b3-4d12-9149-22e334b257ea"
   },
   "outputs": [],
   "source": [
    "modelrcnn.compile(optimizer=Adam(learning_rate=0.0001), loss='binary_crossentropy', metrics=['accuracy'])"
   ]
  },
  {
   "cell_type": "code",
   "execution_count": 88,
   "metadata": {
    "colab": {
     "base_uri": "https://localhost:8080/"
    },
    "id": "lT37GJIdwtMd",
    "outputId": "9ad41ac2-c2d6-4aed-9597-6e61ed74914e"
   },
   "outputs": [
    {
     "name": "stdout",
     "output_type": "stream",
     "text": [
      "Epoch 1/100\n",
      "71/71 [==============================] - 2s 10ms/step - loss: 0.6217 - accuracy: 0.7500 - val_loss: 0.5220 - val_accuracy: 0.8574\n",
      "Epoch 2/100\n",
      "71/71 [==============================] - 0s 7ms/step - loss: 0.4833 - accuracy: 0.8150 - val_loss: 0.4818 - val_accuracy: 0.8626\n",
      "Epoch 3/100\n",
      "71/71 [==============================] - 1s 7ms/step - loss: 0.4635 - accuracy: 0.8265 - val_loss: 0.4384 - val_accuracy: 0.8616\n",
      "Epoch 4/100\n",
      "71/71 [==============================] - 0s 7ms/step - loss: 0.4382 - accuracy: 0.8332 - val_loss: 0.4253 - val_accuracy: 0.8657\n",
      "Epoch 5/100\n",
      "71/71 [==============================] - 0s 7ms/step - loss: 0.4090 - accuracy: 0.8504 - val_loss: 0.4071 - val_accuracy: 0.8605\n",
      "Epoch 6/100\n",
      "71/71 [==============================] - 0s 7ms/step - loss: 0.4117 - accuracy: 0.8553 - val_loss: 0.4033 - val_accuracy: 0.8585\n",
      "Epoch 7/100\n",
      "71/71 [==============================] - 0s 7ms/step - loss: 0.4148 - accuracy: 0.8496 - val_loss: 0.3877 - val_accuracy: 0.8626\n",
      "Epoch 8/100\n",
      "71/71 [==============================] - 0s 7ms/step - loss: 0.4160 - accuracy: 0.8562 - val_loss: 0.3888 - val_accuracy: 0.8595\n",
      "Epoch 9/100\n",
      "71/71 [==============================] - 0s 7ms/step - loss: 0.3983 - accuracy: 0.8518 - val_loss: 0.3805 - val_accuracy: 0.8647\n",
      "Epoch 10/100\n",
      "71/71 [==============================] - 0s 7ms/step - loss: 0.3908 - accuracy: 0.8593 - val_loss: 0.3758 - val_accuracy: 0.8636\n",
      "Epoch 11/100\n",
      "71/71 [==============================] - 0s 7ms/step - loss: 0.4134 - accuracy: 0.8522 - val_loss: 0.3759 - val_accuracy: 0.8647\n",
      "Epoch 12/100\n",
      "71/71 [==============================] - 0s 7ms/step - loss: 0.3894 - accuracy: 0.8602 - val_loss: 0.3762 - val_accuracy: 0.8636\n",
      "Epoch 13/100\n",
      "71/71 [==============================] - 0s 7ms/step - loss: 0.3994 - accuracy: 0.8566 - val_loss: 0.3780 - val_accuracy: 0.8636\n",
      "Epoch 14/100\n",
      "71/71 [==============================] - 0s 7ms/step - loss: 0.3910 - accuracy: 0.8597 - val_loss: 0.3749 - val_accuracy: 0.8667\n",
      "Epoch 15/100\n",
      "71/71 [==============================] - 0s 7ms/step - loss: 0.3700 - accuracy: 0.8650 - val_loss: 0.3724 - val_accuracy: 0.8678\n",
      "Epoch 16/100\n",
      "71/71 [==============================] - 0s 7ms/step - loss: 0.3668 - accuracy: 0.8633 - val_loss: 0.3690 - val_accuracy: 0.8709\n",
      "Epoch 17/100\n",
      "71/71 [==============================] - 0s 7ms/step - loss: 0.3625 - accuracy: 0.8633 - val_loss: 0.3683 - val_accuracy: 0.8678\n",
      "Epoch 18/100\n",
      "71/71 [==============================] - 0s 7ms/step - loss: 0.3641 - accuracy: 0.8686 - val_loss: 0.3649 - val_accuracy: 0.8678\n",
      "Epoch 19/100\n",
      "71/71 [==============================] - 0s 7ms/step - loss: 0.3780 - accuracy: 0.8606 - val_loss: 0.3637 - val_accuracy: 0.8698\n",
      "Epoch 20/100\n",
      "71/71 [==============================] - 0s 7ms/step - loss: 0.3824 - accuracy: 0.8611 - val_loss: 0.3632 - val_accuracy: 0.8740\n",
      "Epoch 21/100\n",
      "71/71 [==============================] - 0s 7ms/step - loss: 0.3599 - accuracy: 0.8690 - val_loss: 0.3643 - val_accuracy: 0.8740\n",
      "Epoch 22/100\n",
      "71/71 [==============================] - 0s 7ms/step - loss: 0.3705 - accuracy: 0.8686 - val_loss: 0.3665 - val_accuracy: 0.8729\n",
      "Epoch 23/100\n",
      "71/71 [==============================] - 0s 7ms/step - loss: 0.3635 - accuracy: 0.8677 - val_loss: 0.3657 - val_accuracy: 0.8740\n",
      "Epoch 24/100\n",
      "71/71 [==============================] - 0s 7ms/step - loss: 0.3695 - accuracy: 0.8650 - val_loss: 0.3653 - val_accuracy: 0.8740\n",
      "Epoch 25/100\n",
      "71/71 [==============================] - 0s 7ms/step - loss: 0.3634 - accuracy: 0.8686 - val_loss: 0.3627 - val_accuracy: 0.8740\n",
      "Epoch 26/100\n",
      "71/71 [==============================] - 0s 7ms/step - loss: 0.3596 - accuracy: 0.8726 - val_loss: 0.3604 - val_accuracy: 0.8760\n",
      "Epoch 27/100\n",
      "71/71 [==============================] - 0s 7ms/step - loss: 0.3483 - accuracy: 0.8677 - val_loss: 0.3619 - val_accuracy: 0.8760\n",
      "Epoch 28/100\n",
      "71/71 [==============================] - 0s 7ms/step - loss: 0.3563 - accuracy: 0.8668 - val_loss: 0.3605 - val_accuracy: 0.8760\n",
      "Epoch 29/100\n",
      "71/71 [==============================] - 0s 7ms/step - loss: 0.3675 - accuracy: 0.8704 - val_loss: 0.3590 - val_accuracy: 0.8750\n",
      "Epoch 30/100\n",
      "71/71 [==============================] - 0s 7ms/step - loss: 0.3465 - accuracy: 0.8681 - val_loss: 0.3593 - val_accuracy: 0.8760\n",
      "Epoch 31/100\n",
      "71/71 [==============================] - 0s 7ms/step - loss: 0.3643 - accuracy: 0.8677 - val_loss: 0.3589 - val_accuracy: 0.8729\n",
      "Epoch 32/100\n",
      "71/71 [==============================] - 0s 7ms/step - loss: 0.3668 - accuracy: 0.8699 - val_loss: 0.3598 - val_accuracy: 0.8719\n",
      "Epoch 33/100\n",
      "71/71 [==============================] - 0s 7ms/step - loss: 0.3566 - accuracy: 0.8668 - val_loss: 0.3600 - val_accuracy: 0.8719\n",
      "Epoch 34/100\n",
      "71/71 [==============================] - 0s 7ms/step - loss: 0.3523 - accuracy: 0.8717 - val_loss: 0.3546 - val_accuracy: 0.8760\n",
      "Epoch 35/100\n",
      "71/71 [==============================] - 0s 7ms/step - loss: 0.3461 - accuracy: 0.8743 - val_loss: 0.3534 - val_accuracy: 0.8760\n",
      "Epoch 36/100\n",
      "71/71 [==============================] - 0s 7ms/step - loss: 0.3524 - accuracy: 0.8752 - val_loss: 0.3559 - val_accuracy: 0.8719\n",
      "Epoch 37/100\n",
      "71/71 [==============================] - 0s 7ms/step - loss: 0.3515 - accuracy: 0.8761 - val_loss: 0.3568 - val_accuracy: 0.8719\n",
      "Epoch 38/100\n",
      "71/71 [==============================] - 1s 7ms/step - loss: 0.3350 - accuracy: 0.8810 - val_loss: 0.3526 - val_accuracy: 0.8750\n",
      "Epoch 39/100\n",
      "71/71 [==============================] - 0s 7ms/step - loss: 0.3526 - accuracy: 0.8721 - val_loss: 0.3537 - val_accuracy: 0.8729\n",
      "Epoch 40/100\n",
      "71/71 [==============================] - 0s 7ms/step - loss: 0.3528 - accuracy: 0.8774 - val_loss: 0.3560 - val_accuracy: 0.8760\n",
      "Epoch 41/100\n",
      "71/71 [==============================] - 0s 7ms/step - loss: 0.3519 - accuracy: 0.8726 - val_loss: 0.3526 - val_accuracy: 0.8760\n",
      "Epoch 42/100\n",
      "71/71 [==============================] - 0s 7ms/step - loss: 0.3426 - accuracy: 0.8735 - val_loss: 0.3528 - val_accuracy: 0.8760\n",
      "Epoch 43/100\n",
      "71/71 [==============================] - 0s 7ms/step - loss: 0.3553 - accuracy: 0.8726 - val_loss: 0.3524 - val_accuracy: 0.8729\n",
      "Epoch 44/100\n",
      "71/71 [==============================] - 0s 7ms/step - loss: 0.3465 - accuracy: 0.8730 - val_loss: 0.3533 - val_accuracy: 0.8719\n",
      "Epoch 45/100\n",
      "71/71 [==============================] - 0s 7ms/step - loss: 0.3472 - accuracy: 0.8757 - val_loss: 0.3512 - val_accuracy: 0.8719\n",
      "Epoch 46/100\n",
      "71/71 [==============================] - 0s 7ms/step - loss: 0.3465 - accuracy: 0.8752 - val_loss: 0.3504 - val_accuracy: 0.8740\n",
      "Epoch 47/100\n",
      "71/71 [==============================] - 0s 7ms/step - loss: 0.3493 - accuracy: 0.8743 - val_loss: 0.3498 - val_accuracy: 0.8750\n",
      "Epoch 48/100\n",
      "71/71 [==============================] - 0s 7ms/step - loss: 0.3496 - accuracy: 0.8735 - val_loss: 0.3506 - val_accuracy: 0.8760\n",
      "Epoch 49/100\n",
      "71/71 [==============================] - 0s 7ms/step - loss: 0.3440 - accuracy: 0.8721 - val_loss: 0.3505 - val_accuracy: 0.8740\n",
      "Epoch 50/100\n",
      "71/71 [==============================] - 0s 7ms/step - loss: 0.3292 - accuracy: 0.8796 - val_loss: 0.3510 - val_accuracy: 0.8740\n",
      "Epoch 51/100\n",
      "71/71 [==============================] - 0s 7ms/step - loss: 0.3505 - accuracy: 0.8748 - val_loss: 0.3545 - val_accuracy: 0.8729\n",
      "Epoch 52/100\n",
      "71/71 [==============================] - 0s 7ms/step - loss: 0.3506 - accuracy: 0.8730 - val_loss: 0.3534 - val_accuracy: 0.8729\n"
     ]
    }
   ],
   "source": [
    "callback = tf.keras.callbacks.EarlyStopping(monitor='val_loss', patience=5)\n",
    "historyrcnn = modelrcnn.fit(Xrr_train, yr_train, epochs = epochs, \n",
    "                    validation_data=(Xrr_test, yr_test), verbose=1,callbacks=[callback])"
   ]
  },
  {
   "cell_type": "code",
   "execution_count": 89,
   "metadata": {
    "colab": {
     "base_uri": "https://localhost:8080/",
     "height": 573
    },
    "id": "XFxwlh7cw7_v",
    "outputId": "67e6146b-9f77-43a5-d6aa-3e30283bbfbd"
   },
   "outputs": [
    {
     "data": {
      "image/png": "[encoded data removed]",
      "text/plain": [
       "<Figure size 640x480 with 1 Axes>"
      ]
     },
     "metadata": {},
     "output_type": "display_data"
    },
    {
     "data": {
      "image/png": "[encoded data removed]",
      "text/plain": [
       "<Figure size 640x480 with 1 Axes>"
      ]
     },
     "metadata": {},
     "output_type": "display_data"
    }
   ],
   "source": [
    "# Plot training and validation accuracy values\n",
    "epoch_range = range(1, 53)\n",
    "plt.plot(epoch_range, historyrcnn.history['accuracy'])\n",
    "plt.plot(epoch_range, historyrcnn.history['val_accuracy'])\n",
    "plt.title('Model accuracy')\n",
    "plt.ylabel('Accuracy')\n",
    "plt.xlabel('Epoch')\n",
    "plt.legend(['Train', 'Val'], loc='upper left')\n",
    "plt.show()\n",
    "\n",
    "# Plot training and validation loss values\n",
    "epoch_range = range(1, 53)\n",
    "plt.plot(epoch_range, historyrcnn.history['loss'])\n",
    "plt.plot(epoch_range, historyrcnn.history['val_loss'])\n",
    "plt.title('Model loss')\n",
    "plt.ylabel('Loss')\n",
    "plt.xlabel('Epoch')\n",
    "plt.legend(['Train', 'Val'], loc='upper left')\n",
    "plt.show()"
   ]
  },
  {
   "cell_type": "code",
   "execution_count": 90,
   "metadata": {
    "id": "OYoyHsRNxhyb"
   },
   "outputs": [],
   "source": [
    "# predict probabilities for test set\n",
    "yhatrcnn_probs = modelrcnn.predict(Xrr_test, verbose=0)\n",
    "# reduce to 1d array\n",
    "yhatrcnn_probs = yhatrcnn_probs[:, 0]\n",
    "# val_LSTM_y = list(val_LSTM_y)"
   ]
  },
  {
   "cell_type": "code",
   "execution_count": 91,
   "metadata": {
    "colab": {
     "base_uri": "https://localhost:8080/"
    },
    "id": "v1hz_uv3xs3p",
    "outputId": "64e765fe-c7cd-438a-e23e-1b7d5c17c731"
   },
   "outputs": [
    {
     "name": "stdout",
     "output_type": "stream",
     "text": [
      "<class 'pandas.core.series.Series'>\n",
      "0      0\n",
      "1      0\n",
      "2      0\n",
      "3      0\n",
      "4      0\n",
      "      ..\n",
      "963    1\n",
      "964    1\n",
      "965    1\n",
      "966    1\n",
      "967    1\n",
      "Name: 该订单是否被退款, Length: 968, dtype: int64\n",
      "<class 'numpy.ndarray'>\n",
      "[1.71102732e-01 2.60354020e-02 1.71102732e-01 1.71102732e-01\n",
      " 1.26018018e-01 1.71102732e-01 2.43803799e-01 1.71102732e-01\n",
      " 1.52160808e-01 2.69297451e-01 3.11225891e-01 1.71102732e-01\n",
      " 1.42527759e-01 1.71102732e-01 1.71102732e-01 2.14442030e-01\n",
      " 4.20056760e-01 4.37511861e-01 2.66997993e-01 2.52268225e-01\n",
      " 2.69112557e-01 2.64699429e-01 7.68064111e-02 1.71102732e-01\n",
      " 2.71259695e-01 1.02514118e-01 1.44844949e-01 1.71102732e-01\n",
      " 1.71102732e-01 3.09127197e-02 3.96451145e-01 2.67758310e-01\n",
      " 3.02348733e-01 3.04460794e-01 1.71102732e-01 1.07182838e-01\n",
      " 1.71102732e-01 6.13461100e-02 1.50832430e-01 2.46422142e-01\n",
      " 3.55342254e-02 1.71102732e-01 1.72440335e-01 1.71102732e-01\n",
      " 1.53072774e-01 6.80752277e-01 1.71102732e-01 1.83748916e-01\n",
      " 5.64611375e-01 1.71102732e-01 2.68279433e-01 1.05848536e-01\n",
      " 1.71102732e-01 1.71102732e-01 3.89867634e-01 1.71102732e-01\n",
      " 1.52526706e-01 1.71102732e-01 4.44943830e-02 1.71102732e-01\n",
      " 6.55282676e-01 5.11228621e-01 4.18549418e-01 1.71102732e-01\n",
      " 2.65706629e-01 2.13130802e-01 2.81881052e-03 8.93869475e-02\n",
      " 2.15533435e-01 2.69306283e-02 1.71102732e-01 1.71102732e-01\n",
      " 1.71102732e-01 1.47651672e-01 9.67288539e-02 1.71102732e-01\n",
      " 3.92207578e-02 1.71102732e-01 1.71102732e-01 1.71102732e-01\n",
      " 1.27110258e-01 3.02738965e-01 1.71102732e-01 1.85861155e-01\n",
      " 2.22549900e-01 6.34578466e-02 7.63829350e-02 1.59665361e-01\n",
      " 1.79460555e-01 1.71102732e-01 1.71102732e-01 2.02901885e-01\n",
      " 8.07614475e-02 9.96870518e-01 1.71102732e-01 1.33245662e-01\n",
      " 2.32134253e-01 6.34037793e-01 1.71102732e-01 4.72594276e-02\n",
      " 2.81990200e-01 4.33349282e-01 1.82283986e-02 2.66749233e-01\n",
      " 1.43853635e-01 1.71102732e-01 1.71102732e-01 1.04562007e-01\n",
      " 3.23327743e-02 2.38495246e-01 2.50860840e-01 1.71102732e-01\n",
      " 1.74415872e-01 1.71102732e-01 3.50944027e-02 7.33148158e-02\n",
      " 1.71102732e-01 1.71102732e-01 1.71102732e-01 4.55289967e-02\n",
      " 7.67468810e-02 1.82962999e-01 3.15517247e-01 2.50613421e-01\n",
      " 1.71102732e-01 1.27780005e-01 4.63091545e-02 1.71102732e-01\n",
      " 1.71102732e-01 2.63537496e-01 9.91592646e-01 1.65029913e-02\n",
      " 2.85037253e-02 2.52152443e-01 3.03372622e-01 2.70129144e-01\n",
      " 3.08015883e-01 1.71102732e-01 9.25615382e-07 1.71102732e-01\n",
      " 5.94969094e-01 1.98859960e-01 1.86571807e-01 1.71102732e-01\n",
      " 1.85850441e-01 6.11725338e-02 2.06536219e-01 1.58559814e-01\n",
      " 6.79508820e-02 1.60861030e-01 2.57517129e-01 1.71102732e-01\n",
      " 3.54710162e-01 1.71102732e-01 1.74701124e-01 7.89462700e-02\n",
      " 1.71102732e-01 2.84675509e-01 2.78682619e-01 2.47135699e-01\n",
      " 6.71109557e-02 1.71102732e-01 2.66193062e-01 3.12443346e-01\n",
      " 1.62653714e-01 1.71102732e-01 1.71102732e-01 3.08918059e-01\n",
      " 1.52671710e-01 1.71102732e-01 1.42948106e-01 1.66336536e-01\n",
      " 1.71102732e-01 5.93035407e-02 2.63450116e-01 4.25310843e-02\n",
      " 1.71102732e-01 5.99759698e-01 5.23407869e-02 1.71102732e-01\n",
      " 5.86159155e-02 1.71102732e-01 1.71102732e-01 1.43011734e-02\n",
      " 1.65783629e-01 4.29623783e-01 1.03041619e-01 1.72130108e-01\n",
      " 1.71102732e-01 4.89280038e-02 3.77558317e-05 1.71102732e-01\n",
      " 2.76532978e-01 4.74827975e-01 2.72619426e-01 9.58284587e-02\n",
      " 1.71102732e-01 1.71102732e-01 1.78880528e-01 2.63147116e-01\n",
      " 1.94768444e-01 1.71102732e-01 2.45368972e-01 1.71102732e-01\n",
      " 3.87248009e-01 4.60550040e-02 1.02782786e-01 1.71102732e-01\n",
      " 1.71102732e-01 4.93847281e-02 1.71102732e-01 1.74537078e-01\n",
      " 7.66485751e-01 1.36047497e-01 1.02924034e-01 1.71102732e-01\n",
      " 1.91279456e-01 1.86268225e-01 1.71102732e-01 6.53799176e-02\n",
      " 1.66637108e-01 1.71102732e-01 4.37843278e-02 2.67152429e-01\n",
      " 4.09318924e-01 4.77621742e-02 3.08424681e-01 1.54605865e-01\n",
      " 4.14917290e-01 6.57835603e-01 6.81567132e-01 6.27576530e-01\n",
      " 2.71421850e-01 2.48905718e-01 3.21043223e-01 3.93661916e-01\n",
      " 1.71102732e-01 3.10947448e-01 1.71102732e-01 4.72157560e-02\n",
      " 8.47260584e-04 2.81097174e-01 1.71102732e-01 2.78733283e-01\n",
      " 3.03704172e-01 1.71102732e-01 1.53598249e-01 2.67562866e-01\n",
      " 7.59452628e-03 2.35535160e-01 2.69399345e-01 1.71102732e-01\n",
      " 1.79022938e-01 1.71102732e-01 1.87779903e-01 1.71102732e-01\n",
      " 1.71102732e-01 1.80539623e-01 1.71102732e-01 1.04547329e-01\n",
      " 1.71102732e-01 4.96975929e-02 7.33260587e-02 5.09847105e-01\n",
      " 3.25325429e-01 3.20079088e-01 2.19347373e-01 1.71102732e-01\n",
      " 2.02412471e-01 2.24674940e-01 4.28027153e-01 1.22377872e-02\n",
      " 3.49365138e-02 1.52123436e-01 1.71102732e-01 1.19395040e-01\n",
      " 6.80142939e-01 1.71102732e-01 3.79596204e-01 9.84643817e-01\n",
      " 1.71102732e-01 1.71102732e-01 1.71102732e-01 1.71102732e-01\n",
      " 2.38661110e-01 1.80103108e-01 2.46168822e-01 1.51904568e-01\n",
      " 1.71102732e-01 6.10472374e-02 8.99745896e-02 1.71102732e-01\n",
      " 3.14890623e-01 9.99813199e-01 1.33773670e-01 1.03865892e-01\n",
      " 2.75757849e-01 1.70765013e-01 1.98870718e-01 2.73773372e-01\n",
      " 4.05576020e-01 1.71102732e-01 1.88484564e-01 3.29545915e-01\n",
      " 1.71102732e-01 2.59115964e-01 1.84126198e-01 7.02191517e-02\n",
      " 5.13663471e-01 1.71102732e-01 8.23343247e-02 1.57885447e-01\n",
      " 1.72137678e-01 1.71102732e-01 1.71102732e-01 1.34063035e-01\n",
      " 2.69853473e-01 1.71102732e-01 1.71102732e-01 1.71102732e-01\n",
      " 1.71102732e-01 2.94274747e-01 8.44368413e-02 3.96506280e-01\n",
      " 1.71102732e-01 1.71102732e-01 6.55607522e-01 1.71102732e-01\n",
      " 1.71102732e-01 2.75370181e-01 1.71102732e-01 1.95938230e-01\n",
      " 2.42556915e-01 3.46138589e-02 2.64148116e-01 1.71102732e-01\n",
      " 5.50425410e-01 1.71102732e-01 2.48728901e-01 1.71102732e-01\n",
      " 1.28470272e-01 8.90121832e-02 1.50459364e-01 2.66377330e-01\n",
      " 1.71102732e-01 1.00593343e-01 3.06662053e-01 1.56008184e-01\n",
      " 1.71102732e-01 1.96859073e-02 7.50135407e-02 1.71102732e-01\n",
      " 8.83823559e-02 5.31470418e-01 1.71102732e-01 2.99949974e-01\n",
      " 1.71102732e-01 1.71102732e-01 3.69930118e-02 1.71102732e-01\n",
      " 3.98523778e-01 2.49328628e-01 1.71102732e-01 2.79185474e-01\n",
      " 1.71102732e-01 5.46982959e-02 2.46332720e-01 7.31145144e-02\n",
      " 1.71102732e-01 1.71102732e-01 1.72353297e-01 1.71102732e-01\n",
      " 2.64273584e-01 1.71102732e-01 3.17978323e-01 1.71102732e-01\n",
      " 1.71102732e-01 1.56735688e-01 3.35893393e-01 1.71102732e-01\n",
      " 9.52579558e-01 1.71102732e-01 1.71102732e-01 1.71102732e-01\n",
      " 2.59979963e-01 1.78564623e-01 1.47554711e-01 2.65522510e-01\n",
      " 1.71102732e-01 6.60524145e-03 3.92099053e-01 1.95851818e-01\n",
      " 1.71102732e-01 2.25003287e-01 1.77965209e-01 1.71102732e-01\n",
      " 4.05857891e-01 1.71102732e-01 1.71102732e-01 1.71102732e-01\n",
      " 1.71102732e-01 1.26912102e-01 1.71102732e-01 2.78736740e-01\n",
      " 1.71102732e-01 1.71102732e-01 1.43583730e-01 1.71102732e-01\n",
      " 2.51979500e-01 1.71102732e-01 1.71102732e-01 1.69413120e-01\n",
      " 3.20982754e-01 2.78398365e-01 1.71102732e-01 1.71102732e-01\n",
      " 1.75490141e-01 7.08107203e-02 1.71102732e-01 7.34886587e-01\n",
      " 1.71102732e-01 1.71102732e-01 1.71102732e-01 2.92042553e-01\n",
      " 2.39424109e-01 1.71102732e-01 1.71102732e-01 1.71102732e-01\n",
      " 1.71102732e-01 1.96125478e-01 1.38896286e-01 1.71102732e-01\n",
      " 3.99658382e-02 1.71102732e-01 1.87169194e-01 4.30621445e-01\n",
      " 2.79016942e-01 2.64568269e-01 1.71102732e-01 1.71102732e-01\n",
      " 1.71102732e-01 2.68725276e-01 1.71102732e-01 6.34167194e-02\n",
      " 3.89971286e-02 1.62507117e-01 1.71102732e-01 2.74979889e-01\n",
      " 9.47515666e-02 1.71102732e-01 1.92438722e-01 1.02237046e-01\n",
      " 2.06715956e-01 3.08564007e-01 5.47358155e-01 1.71102732e-01\n",
      " 1.57881547e-02 2.46550843e-01 1.71102732e-01 5.23325168e-02\n",
      " 2.51515657e-01 1.71102732e-01 1.71102732e-01 2.17357382e-01\n",
      " 2.07949892e-01 2.62427866e-01 3.79025996e-01 1.71102732e-01\n",
      " 2.08183497e-01 2.49990374e-02 1.71102732e-01 1.71102732e-01\n",
      " 1.77084684e-01 2.73520589e-01 1.69153094e-01 1.71102732e-01\n",
      " 5.81879839e-02 2.68579930e-01 2.89533079e-01 4.26889926e-01\n",
      " 1.93536244e-02 1.71102732e-01 2.72898316e-01 1.71102732e-01\n",
      " 9.99940872e-01 9.99997914e-01 9.99999821e-01 9.98434722e-01\n",
      " 9.99980807e-01 2.10337758e-01 9.99884784e-01 1.71102732e-01\n",
      " 9.99171674e-01 8.23233485e-01 9.99337673e-01 8.72702777e-01\n",
      " 4.90552895e-02 9.99854863e-01 1.71102732e-01 7.00208187e-01\n",
      " 8.78495932e-01 9.86108661e-01 3.49444896e-01 9.41952050e-01\n",
      " 9.91891861e-01 1.00000000e+00 7.83240557e-01 7.77998984e-01\n",
      " 1.00000000e+00 9.99999821e-01 9.32202876e-01 9.84420598e-01\n",
      " 9.98010755e-01 7.75447905e-01 9.62330341e-01 9.99703705e-01\n",
      " 9.78254557e-01 9.97895420e-01 9.99997795e-01 9.96096551e-01\n",
      " 9.90830123e-01 1.00000000e+00 9.99755383e-01 1.00000000e+00\n",
      " 9.90666389e-01 9.23305273e-01 9.99994218e-01 9.99958456e-01\n",
      " 9.24297810e-01 9.99404550e-01 1.00000000e+00 1.71102732e-01\n",
      " 9.98465002e-01 1.00000000e+00 8.40437949e-01 9.98423338e-01\n",
      " 9.85460401e-01 5.49437940e-01 9.30819750e-01 9.99741316e-01\n",
      " 1.71102732e-01 9.18897152e-01 9.99999106e-01 9.99964237e-01\n",
      " 9.96151984e-01 9.99177516e-01 9.88153279e-01 9.98970091e-01\n",
      " 1.00000000e+00 9.94809270e-01 9.99999940e-01 9.99733984e-01\n",
      " 9.73036706e-01 9.88728821e-01 1.71102732e-01 9.99323905e-01\n",
      " 9.99999762e-01 9.26258922e-01 9.99052644e-01 9.98634458e-01\n",
      " 9.99998331e-01 9.99999881e-01 9.99998331e-01 1.71102732e-01\n",
      " 6.98491752e-01 9.99976099e-01 1.00000000e+00 7.29982853e-01\n",
      " 3.42267275e-01 1.71102732e-01 9.74773943e-01 9.89512980e-01\n",
      " 1.71102732e-01 9.99999642e-01 9.99710560e-01 9.99999642e-01\n",
      " 1.71102732e-01 3.17498446e-01 9.99721348e-01 9.99846399e-01\n",
      " 9.97411072e-01 1.00000000e+00 9.99988258e-01 6.98192656e-01\n",
      " 9.73457575e-01 9.65360463e-01 1.00000000e+00 1.00000000e+00\n",
      " 4.01790798e-01 9.89085019e-01 9.30463374e-01 9.95707512e-01\n",
      " 9.96144950e-01 9.31560874e-01 1.71102732e-01 3.41808438e-01\n",
      " 9.77987409e-01 1.00000000e+00 9.99982834e-01 1.00000000e+00\n",
      " 9.99998569e-01 1.71102732e-01 2.28182942e-01 9.99325991e-01\n",
      " 9.99823570e-01 9.99984920e-01 9.88882661e-01 9.97302413e-01\n",
      " 9.96193171e-01 9.86043453e-01 9.99633133e-01 9.99964595e-01\n",
      " 9.99994278e-01 9.99998629e-01 1.08307637e-02 1.71102732e-01\n",
      " 9.87518311e-01 1.00000000e+00 7.52603292e-01 9.99291837e-01\n",
      " 7.44582653e-01 1.00000000e+00 9.20359492e-01 6.97881877e-01\n",
      " 1.48956150e-01 1.71102732e-01 9.76834774e-01 9.99996185e-01\n",
      " 9.98801529e-01 1.71102732e-01 9.61111307e-01 9.99996901e-01\n",
      " 2.67838478e-01 9.99060631e-01 9.99436021e-01 9.99614418e-01\n",
      " 9.98994350e-01 9.99899745e-01 9.99309659e-01 9.98378277e-01\n",
      " 9.88700509e-01 9.75811779e-01 9.69870389e-01 9.90715444e-01\n",
      " 1.71102732e-01 4.15699869e-01 9.99123335e-01 6.93659961e-01\n",
      " 9.99367774e-01 7.05024064e-01 8.62748921e-01 8.20136368e-01\n",
      " 9.99350131e-01 9.64083493e-01 8.83712769e-01 9.90300119e-01\n",
      " 8.50700736e-02 8.46282244e-01 9.76351619e-01 9.61058497e-01\n",
      " 9.99725521e-01 9.99878287e-01 1.71102732e-01 9.99583662e-01\n",
      " 1.16565369e-01 1.71102732e-01 9.28014874e-01 8.86221886e-01\n",
      " 9.98778939e-01 9.99450028e-01 8.74972880e-01 9.96731758e-01\n",
      " 9.98877168e-01 9.99991238e-01 5.89613020e-01 1.00000000e+00\n",
      " 9.88840163e-01 9.77338076e-01 9.06289160e-01 9.86637950e-01\n",
      " 1.71102732e-01 9.95883048e-01 1.00000000e+00 9.77198005e-01\n",
      " 2.44651034e-01 9.99799788e-01 1.71102732e-01 9.98985350e-01\n",
      " 9.85491574e-01 1.71102732e-01 8.73379886e-01 9.99920130e-01\n",
      " 9.99624193e-01 1.74901277e-01 6.18696868e-01 9.99995768e-01\n",
      " 9.58427966e-01 2.45404437e-01 9.55679595e-01 9.88935351e-01\n",
      " 9.99976933e-01 9.60349560e-01 9.99104738e-01 1.00000000e+00\n",
      " 9.64763820e-01 9.59737539e-01 8.35208502e-03 1.71102732e-01\n",
      " 9.96157169e-01 9.99495924e-01 9.90260005e-01 7.27332830e-02\n",
      " 9.99999762e-01 1.87592566e-01 9.99719441e-01 1.71102732e-01\n",
      " 9.58296657e-01 9.21913385e-01 9.99888122e-01 9.99899983e-01\n",
      " 9.93559957e-01 9.99872327e-01 1.00000000e+00 9.96815324e-01\n",
      " 1.71102732e-01 1.00000000e+00 2.97106922e-01 1.00000000e+00\n",
      " 8.75281632e-01 9.99723315e-01 9.99639213e-01 9.86148894e-01\n",
      " 9.62328017e-01 9.99990344e-01 1.71102732e-01 1.71102732e-01\n",
      " 9.98951137e-01 9.99999940e-01 8.06781888e-01 9.97070909e-01\n",
      " 9.66188788e-01 3.43581259e-01 4.05932277e-01 1.71102732e-01\n",
      " 9.62688684e-01 1.85345843e-01 1.71102732e-01 8.86966944e-01\n",
      " 9.95403647e-01 9.65238273e-01 1.71102732e-01 4.57195759e-01\n",
      " 7.24962890e-01 9.88180041e-01 9.99998987e-01 9.09575701e-01\n",
      " 9.99626815e-01 9.98468995e-01 9.42731917e-01 9.60441470e-01\n",
      " 4.90461797e-01 9.99894619e-01 1.00000000e+00 7.66403973e-01\n",
      " 9.76460874e-01 9.48921442e-01 6.52669132e-01 9.99999702e-01\n",
      " 9.99469936e-01 2.70489275e-01 9.99998391e-01 9.74422932e-01\n",
      " 9.99897540e-01 9.09153342e-01 9.77905035e-01 9.99996781e-01\n",
      " 9.99860287e-01 1.00000000e+00 9.99999762e-01 9.99988616e-01\n",
      " 9.39620674e-01 9.99997616e-01 2.57233292e-01 9.92914557e-01\n",
      " 9.70271647e-01 9.96109247e-01 9.30765808e-01 9.99959707e-01\n",
      " 9.80042577e-01 5.45306027e-01 1.95352420e-01 9.62342143e-01\n",
      " 9.97526348e-01 9.98041153e-01 1.71102732e-01 9.59177554e-01\n",
      " 9.79958355e-01 2.59259194e-01 9.62804198e-01 9.60816205e-01\n",
      " 9.99999106e-01 9.50696051e-01 9.83732104e-01 9.99253809e-01\n",
      " 1.00000000e+00 9.98780429e-01 9.98549283e-01 1.00000000e+00\n",
      " 1.71102732e-01 9.99999583e-01 1.71102732e-01 9.99171674e-01\n",
      " 1.55922979e-01 9.68028486e-01 9.99518752e-01 8.50927770e-01\n",
      " 9.98665929e-01 9.99081910e-01 1.71102732e-01 9.82519984e-01\n",
      " 9.96437550e-01 2.75882274e-01 6.60495520e-01 9.99816954e-01\n",
      " 9.99415159e-01 1.71102732e-01 9.99797523e-01 9.99025881e-01\n",
      " 9.48980033e-01 9.99999821e-01 1.71102732e-01 1.71102732e-01\n",
      " 9.38287497e-01 3.95435572e-01 1.71102732e-01 1.71102732e-01\n",
      " 1.71102732e-01 1.00000000e+00 7.15748429e-01 9.99999702e-01\n",
      " 9.99940038e-01 6.58100247e-01 9.99712944e-01 9.99613047e-01\n",
      " 9.87813652e-01 9.99741018e-01 9.94906604e-01 9.99999344e-01\n",
      " 1.00000000e+00 9.99997079e-01 9.76093948e-01 9.99547303e-01\n",
      " 1.71102732e-01 9.99449670e-01 9.99999404e-01 2.48292938e-01\n",
      " 9.95934725e-01 9.00217414e-01 9.99898076e-01 9.82096791e-01\n",
      " 9.99999762e-01 1.71102732e-01 1.00000000e+00 9.94503915e-01\n",
      " 9.58890736e-01 3.07031989e-01 8.95291328e-01 1.40489370e-01\n",
      " 9.28129017e-01 9.69595134e-01 9.99985695e-01 8.97232115e-01\n",
      " 9.99972463e-01 1.71102732e-01 9.99965727e-01 9.99999702e-01\n",
      " 1.85862929e-01 8.63832235e-01 9.60430503e-01 2.40017921e-01\n",
      " 1.83213294e-01 2.00019702e-01 9.99564648e-01 9.60735261e-01\n",
      " 7.78347313e-01 9.31615174e-01 9.98966157e-01 9.97085333e-01\n",
      " 9.95490968e-01 9.99996364e-01 9.52741504e-01 1.71102732e-01\n",
      " 9.78064477e-01 8.54446530e-01 9.77208436e-01 9.15940106e-01\n",
      " 9.90078330e-01 9.32180405e-01 9.99486506e-01 9.99986529e-01\n",
      " 8.85445178e-01 9.90302980e-01 1.71102732e-01 9.99998629e-01\n",
      " 2.64463246e-01 9.85829413e-01 9.99999523e-01 9.99373198e-01\n",
      " 1.00000000e+00 8.83976758e-01 7.67189562e-01 9.99997795e-01\n",
      " 1.71102732e-01 9.99941885e-01 1.82972342e-01 9.75070417e-01\n",
      " 1.71102732e-01 9.99222755e-01 3.05653006e-01 9.99787331e-01\n",
      " 9.96608913e-01 1.00000000e+00 8.70422482e-01 1.71102732e-01\n",
      " 8.51407766e-01 1.71102732e-01 9.91113067e-01 1.00000000e+00\n",
      " 6.45759329e-02 9.99295294e-01 9.73732710e-01 9.94777560e-01\n",
      " 9.79296446e-01 9.99995232e-01 7.35484660e-01 9.99999285e-01\n",
      " 9.99407947e-01 9.99998689e-01 3.00933093e-01 8.86275887e-01\n",
      " 3.20855886e-01 9.99998093e-01 9.99997735e-01 6.45170987e-01\n",
      " 1.00000000e+00 8.94750834e-01 9.92363393e-01 9.99992371e-01\n",
      " 1.00000000e+00 1.71102732e-01 1.71102732e-01 9.98951912e-01\n",
      " 3.00549984e-01 3.40527922e-01 1.00000000e+00 1.71102732e-01\n",
      " 9.38565910e-01 1.71102732e-01 9.98500049e-01 9.58555341e-01\n",
      " 1.00000000e+00 9.85968351e-01 8.20396006e-01 9.96411562e-01\n",
      " 8.37959468e-01 9.80638027e-01 9.86641705e-01 9.99631286e-01]\n",
      "[0, 0, 0, 0, 0, 0, 0, 0, 0, 0, 0, 0, 0, 0, 0, 0, 0, 0, 0, 0, 0, 0, 0, 0, 0, 0, 0, 0, 0, 0, 0, 0, 0, 0, 0, 0, 0, 0, 0, 0, 0, 0, 0, 0, 0, 1, 0, 0, 1, 0, 0, 0, 0, 0, 0, 0, 0, 0, 0, 0, 1, 1, 0, 0, 0, 0, 0, 0, 0, 0, 0, 0, 0, 0, 0, 0, 0, 0, 0, 0, 0, 0, 0, 0, 0, 0, 0, 0, 0, 0, 0, 0, 0, 1, 0, 0, 0, 1, 0, 0, 0, 0, 0, 0, 0, 0, 0, 0, 0, 0, 0, 0, 0, 0, 0, 0, 0, 0, 0, 0, 0, 0, 0, 0, 0, 0, 0, 0, 0, 0, 1, 0, 0, 0, 0, 0, 0, 0, 0, 0, 1, 0, 0, 0, 0, 0, 0, 0, 0, 0, 0, 0, 0, 0, 0, 0, 0, 0, 0, 0, 0, 0, 0, 0, 0, 0, 0, 0, 0, 0, 0, 0, 0, 0, 0, 0, 0, 1, 0, 0, 0, 0, 0, 0, 0, 0, 0, 0, 0, 0, 0, 0, 0, 0, 0, 0, 0, 0, 0, 0, 0, 0, 0, 0, 0, 0, 0, 0, 0, 0, 0, 0, 1, 0, 0, 0, 0, 0, 0, 0, 0, 0, 0, 0, 0, 0, 0, 0, 0, 1, 1, 1, 0, 0, 0, 0, 0, 0, 0, 0, 0, 0, 0, 0, 0, 0, 0, 0, 0, 0, 0, 0, 0, 0, 0, 0, 0, 0, 0, 0, 0, 0, 0, 1, 0, 0, 0, 0, 0, 0, 0, 0, 0, 0, 0, 0, 1, 0, 0, 1, 0, 0, 0, 0, 0, 0, 0, 0, 0, 0, 0, 0, 0, 1, 0, 0, 0, 0, 0, 0, 0, 0, 0, 0, 0, 0, 0, 0, 1, 0, 0, 0, 0, 0, 0, 0, 0, 0, 0, 0, 0, 0, 0, 0, 0, 0, 1, 0, 0, 0, 0, 0, 0, 0, 0, 0, 1, 0, 0, 0, 0, 0, 0, 0, 0, 0, 0, 0, 0, 0, 0, 0, 0, 1, 0, 0, 0, 0, 0, 0, 0, 0, 0, 0, 0, 0, 0, 0, 0, 0, 0, 0, 0, 0, 0, 0, 0, 0, 0, 0, 1, 0, 0, 0, 0, 0, 0, 0, 0, 0, 0, 0, 0, 0, 0, 0, 0, 0, 0, 0, 0, 0, 0, 0, 0, 0, 0, 0, 0, 0, 0, 0, 0, 0, 0, 0, 0, 0, 0, 1, 0, 0, 0, 0, 0, 0, 0, 0, 0, 0, 0, 0, 0, 0, 0, 0, 0, 0, 0, 0, 0, 0, 0, 0, 0, 0, 0, 0, 0, 0, 0, 0, 0, 0, 1, 0, 0, 0, 0, 0, 0, 0, 0, 0, 0, 0, 0, 0, 0, 0, 0, 0, 0, 0, 0, 0, 0, 0, 0, 0, 0, 0, 0, 0, 1, 1, 1, 1, 1, 0, 1, 0, 1, 1, 1, 1, 0, 1, 0, 1, 1, 1, 0, 1, 1, 1, 1, 1, 1, 1, 1, 1, 1, 1, 1, 1, 1, 1, 1, 1, 1, 1, 1, 1, 1, 1, 1, 1, 1, 1, 1, 0, 1, 1, 1, 1, 1, 1, 1, 1, 0, 1, 1, 1, 1, 1, 1, 1, 1, 1, 1, 1, 1, 1, 0, 1, 1, 1, 1, 1, 1, 1, 1, 0, 1, 1, 1, 1, 0, 0, 1, 1, 0, 1, 1, 1, 0, 0, 1, 1, 1, 1, 1, 1, 1, 1, 1, 1, 0, 1, 1, 1, 1, 1, 0, 0, 1, 1, 1, 1, 1, 0, 0, 1, 1, 1, 1, 1, 1, 1, 1, 1, 1, 1, 0, 0, 1, 1, 1, 1, 1, 1, 1, 1, 0, 0, 1, 1, 1, 0, 1, 1, 0, 1, 1, 1, 1, 1, 1, 1, 1, 1, 1, 1, 0, 0, 1, 1, 1, 1, 1, 1, 1, 1, 1, 1, 0, 1, 1, 1, 1, 1, 0, 1, 0, 0, 1, 1, 1, 1, 1, 1, 1, 1, 1, 1, 1, 1, 1, 1, 0, 1, 1, 1, 0, 1, 0, 1, 1, 0, 1, 1, 1, 0, 1, 1, 1, 0, 1, 1, 1, 1, 1, 1, 1, 1, 0, 0, 1, 1, 1, 0, 1, 0, 1, 0, 1, 1, 1, 1, 1, 1, 1, 1, 0, 1, 0, 1, 1, 1, 1, 1, 1, 1, 0, 0, 1, 1, 1, 1, 1, 0, 0, 0, 1, 0, 0, 1, 1, 1, 0, 0, 1, 1, 1, 1, 1, 1, 1, 1, 0, 1, 1, 1, 1, 1, 1, 1, 1, 0, 1, 1, 1, 1, 1, 1, 1, 1, 1, 1, 1, 1, 0, 1, 1, 1, 1, 1, 1, 1, 0, 1, 1, 1, 0, 1, 1, 0, 1, 1, 1, 1, 1, 1, 1, 1, 1, 1, 0, 1, 0, 1, 0, 1, 1, 1, 1, 1, 0, 1, 1, 0, 1, 1, 1, 0, 1, 1, 1, 1, 0, 0, 1, 0, 0, 0, 0, 1, 1, 1, 1, 1, 1, 1, 1, 1, 1, 1, 1, 1, 1, 1, 0, 1, 1, 0, 1, 1, 1, 1, 1, 0, 1, 1, 1, 0, 1, 0, 1, 1, 1, 1, 1, 0, 1, 1, 0, 1, 1, 0, 0, 0, 1, 1, 1, 1, 1, 1, 1, 1, 1, 0, 1, 1, 1, 1, 1, 1, 1, 1, 1, 1, 0, 1, 0, 1, 1, 1, 1, 1, 1, 1, 0, 1, 0, 1, 0, 1, 0, 1, 1, 1, 1, 0, 1, 0, 1, 1, 0, 1, 1, 1, 1, 1, 1, 1, 1, 1, 0, 1, 0, 1, 1, 1, 1, 1, 1, 1, 1, 0, 0, 1, 0, 0, 1, 0, 1, 0, 1, 1, 1, 1, 1, 1, 1, 1, 1, 1]\n"
     ]
    }
   ],
   "source": [
    "print(type(yr_test))\n",
    "print(yr_test)\n",
    "print(type(yhatrcnn_probs))\n",
    "print(yhatrcnn_probs)\n",
    "yhatrcnn_probs = [1 if x > 0.5 else 0 for x in yhatrcnn_probs]\n",
    "print(yhatrcnn_probs)"
   ]
  },
  {
   "cell_type": "code",
   "execution_count": 92,
   "metadata": {
    "colab": {
     "base_uri": "https://localhost:8080/"
    },
    "id": "-bAq8cAmx7wg",
    "outputId": "4eb5df4e-ca74-4632-8945-c15821ae3d79"
   },
   "outputs": [
    {
     "name": "stdout",
     "output_type": "stream",
     "text": [
      "Accuracyrcnn: 0.872934\n",
      "Precisionrcnn: 0.941320\n",
      "Recallrcnn: 0.795455\n",
      "f1rcnn: 0.862262\n"
     ]
    }
   ],
   "source": [
    "#----------------------------------------------------\n",
    "# accuracy: (tp + tn) / (p + n)\n",
    "accuracyrcnn = accuracy_score(yr_test, yhatrcnn_probs)\n",
    "print('Accuracyrcnn: %f' % accuracyrcnn)\n",
    "# precision tp / (tp + fp)\n",
    "precisionrcnn = precision_score(yr_test, yhatrcnn_probs)\n",
    "print('Precisionrcnn: %f' % precisionrcnn)\n",
    "# recall: tp / (tp + fn)\n",
    "recallrcnn = recall_score(yr_test, yhatrcnn_probs)\n",
    "print('Recallrcnn: %f' % recallrcnn)\n",
    "f1rcnn = f1_score(yr_test, yhatrcnn_probs)\n",
    "print('f1rcnn: %f' % f1rcnn)"
   ]
  },
  {
   "cell_type": "code",
   "execution_count": 93,
   "metadata": {
    "colab": {
     "base_uri": "https://localhost:8080/",
     "height": 295
    },
    "id": "_fXDGBj_x8Hq",
    "outputId": "d4f19516-29f5-47ae-8df0-d8287e148597"
   },
   "outputs": [
    {
     "data": {
      "image/png": "[encoded data removed]",
      "text/plain": [
       "<Figure size 640x480 with 1 Axes>"
      ]
     },
     "metadata": {},
     "output_type": "display_data"
    }
   ],
   "source": [
    "\n",
    "#----------------------------------------------------\n",
    "#----------------------------------------------------\n",
    "fprrcnn, tprrcnn, thersholdsrcnn = roc_curve(yr_test, yhatrcnn_probs)\n",
    "roc_aucrcnn = auc(fprrcnn, tprrcnn)\n",
    "\n",
    "plt.plot(fprrcnn, tprrcnn, 'k--', label='ROC (RFM+CNN AUC = {0:.4f})'.format(roc_aucrcnn), lw=2)\n",
    "\n",
    "plt.xlabel('False Positive Rate')\n",
    "plt.ylabel('True Positive Rate')\n",
    "plt.title('ROC Curve')\n",
    "plt.legend(loc=\"lower right\")\n",
    "plt.show()"
   ]
  },
  {
   "cell_type": "markdown",
   "metadata": {
    "id": "6Vf6R2IciWj0"
   },
   "source": [
    "# **MachineLearning**"
   ]
  },
  {
   "cell_type": "code",
   "execution_count": 101,
   "metadata": {},
   "outputs": [
    {
     "name": "stdout",
     "output_type": "stream",
     "text": [
      "Looking in indexes: http://repo.myhuaweicloud.com/repository/pypi/simple\n",
      "Requirement already satisfied: xgboost in /home/ma-user/anaconda3/envs/python-3.7.10/lib/python3.7/site-packages (1.6.2)\n",
      "Requirement already satisfied: scipy in /home/ma-user/anaconda3/envs/python-3.7.10/lib/python3.7/site-packages (from xgboost) (1.7.3)\n",
      "Requirement already satisfied: numpy in /home/ma-user/anaconda3/envs/python-3.7.10/lib/python3.7/site-packages (from xgboost) (1.21.6)\n",
      "\u001b[33mWARNING: You are using pip version 20.3.3; however, version 22.3.1 is available.\n",
      "You should consider upgrading via the '/home/ma-user/anaconda3/envs/python-3.7.10/bin/python -m pip install --upgrade pip' command.\u001b[0m\n",
      "Note: you may need to restart the kernel to use updated packages.\n"
     ]
    }
   ],
   "source": [
    "pip install xgboost"
   ]
  },
  {
   "cell_type": "code",
   "execution_count": 102,
   "metadata": {},
   "outputs": [
    {
     "name": "stdout",
     "output_type": "stream",
     "text": [
      "Looking in indexes: http://repo.myhuaweicloud.com/repository/pypi/simple\n",
      "Collecting statsmodels\n",
      "  Downloading http://repo.myhuaweicloud.com/repository/pypi/packages/91/8e/062b268b8e6d19382cbf2f97ac0384285511790718ce90bbfb1eb5e44b07/statsmodels-0.13.5-cp37-cp37m-manylinux_2_17_x86_64.manylinux2014_x86_64.whl (9.9 MB)\n",
      "\u001b[K     |████████████████████████████████| 9.9 MB 14.6 MB/s eta 0:00:01\n",
      "\u001b[?25hRequirement already satisfied: pandas>=0.25 in /home/ma-user/modelarts-dev/modelarts-sdk (from statsmodels) (1.3.5)\n",
      "Requirement already satisfied: scipy>=1.3 in /home/ma-user/anaconda3/envs/python-3.7.10/lib/python3.7/site-packages (from statsmodels) (1.7.3)\n",
      "Requirement already satisfied: numpy>=1.17 in /home/ma-user/anaconda3/envs/python-3.7.10/lib/python3.7/site-packages (from statsmodels) (1.21.6)\n",
      "Requirement already satisfied: packaging>=21.3 in /home/ma-user/modelarts-dev/common-algo-toolkit (from statsmodels) (21.3)\n",
      "Requirement already satisfied: pyparsing!=3.0.5,>=2.0.2 in /home/ma-user/modelarts-dev/common-algo-toolkit (from packaging>=21.3->statsmodels) (3.0.9)\n",
      "Requirement already satisfied: pytz>=2017.3 in /home/ma-user/modelarts-dev/modelarts-sdk (from pandas>=0.25->statsmodels) (2022.6)\n",
      "Requirement already satisfied: python-dateutil>=2.7.3 in /home/ma-user/anaconda3/envs/python-3.7.10/lib/python3.7/site-packages (from pandas>=0.25->statsmodels) (2.8.2)\n",
      "Collecting patsy>=0.5.2\n",
      "  Downloading http://repo.myhuaweicloud.com/repository/pypi/packages/87/7f/d37cd027c25145eeba92b1a756976931c831803d92547c8637a3400c339f/patsy-0.5.2-py2.py3-none-any.whl (233 kB)\n",
      "\u001b[K     |████████████████████████████████| 233 kB 40.7 MB/s eta 0:00:01\n",
      "\u001b[?25hRequirement already satisfied: six in /home/ma-user/anaconda3/envs/python-3.7.10/lib/python3.7/site-packages (from patsy>=0.5.2->statsmodels) (1.16.0)\n",
      "Installing collected packages: patsy, statsmodels\n",
      "Successfully installed patsy-0.5.2 statsmodels-0.13.5\n",
      "\u001b[33mWARNING: You are using pip version 20.3.3; however, version 22.3.1 is available.\n",
      "You should consider upgrading via the '/home/ma-user/anaconda3/envs/python-3.7.10/bin/python -m pip install --upgrade pip' command.\u001b[0m\n",
      "Note: you may need to restart the kernel to use updated packages.\n"
     ]
    }
   ],
   "source": [
    "pip install statsmodels"
   ]
  },
  {
   "cell_type": "code",
   "execution_count": 97,
   "metadata": {},
   "outputs": [
    {
     "name": "stdout",
     "output_type": "stream",
     "text": [
      "Looking in indexes: http://repo.myhuaweicloud.com/repository/pypi/simple\n",
      "Collecting lightgbm\n",
      "  Downloading http://repo.myhuaweicloud.com/repository/pypi/packages/19/b7/a880bb0922df5413909d1d6d7831b1e93622f113c7889f58a775a9c79ce4/lightgbm-3.3.3-py3-none-manylinux1_x86_64.whl (2.0 MB)\n",
      "\u001b[K     |████████████████████████████████| 2.0 MB 39.5 MB/s eta 0:00:01████▊               | 1.0 MB 39.5 MB/s eta 0:00:01\n",
      "\u001b[?25hRequirement already satisfied: scipy in /home/ma-user/anaconda3/envs/python-3.7.10/lib/python3.7/site-packages (from lightgbm) (1.7.3)\n",
      "Requirement already satisfied: numpy in /home/ma-user/anaconda3/envs/python-3.7.10/lib/python3.7/site-packages (from lightgbm) (1.21.6)\n",
      "Requirement already satisfied: scikit-learn!=0.22.0 in /home/ma-user/anaconda3/envs/python-3.7.10/lib/python3.7/site-packages (from lightgbm) (1.0.2)\n",
      "Requirement already satisfied: wheel in /home/ma-user/anaconda3/envs/python-3.7.10/lib/python3.7/site-packages (from lightgbm) (0.37.1)\n",
      "Requirement already satisfied: threadpoolctl>=2.0.0 in /home/ma-user/anaconda3/envs/python-3.7.10/lib/python3.7/site-packages (from scikit-learn!=0.22.0->lightgbm) (3.1.0)\n",
      "Requirement already satisfied: joblib>=0.11 in /home/ma-user/anaconda3/envs/python-3.7.10/lib/python3.7/site-packages (from scikit-learn!=0.22.0->lightgbm) (1.1.0)\n",
      "Installing collected packages: lightgbm\n",
      "Successfully installed lightgbm-3.3.3\n",
      "\u001b[33mWARNING: You are using pip version 20.3.3; however, version 22.3.1 is available.\n",
      "You should consider upgrading via the '/home/ma-user/anaconda3/envs/python-3.7.10/bin/python -m pip install --upgrade pip' command.\u001b[0m\n",
      "Note: you may need to restart the kernel to use updated packages.\n"
     ]
    }
   ],
   "source": [
    "pip install lightgbm"
   ]
  },
  {
   "cell_type": "code",
   "execution_count": 103,
   "metadata": {
    "colab": {
     "base_uri": "https://localhost:8080/"
    },
    "id": "hBckdoXtiZ0e",
    "outputId": "b10292e1-36f5-4bc3-c591-e162ba40e553"
   },
   "outputs": [
    {
     "name": "stdout",
     "output_type": "stream",
     "text": [
      "2.11.0\n"
     ]
    }
   ],
   "source": [
    "import tensorflow as tf\n",
    "from tensorflow import keras\n",
    "from tensorflow.keras import Sequential\n",
    "from tensorflow.keras.layers import Flatten, Dense, Dropout, BatchNormalization, Conv1D, MaxPool1D\n",
    "from tensorflow.keras.optimizers import Adam\n",
    "print(tf.__version__)\n",
    "import pandas as pd\n",
    "import numpy as np\n",
    "import matplotlib.pyplot as plt\n",
    "import seaborn as sns\n",
    "import xgboost as xgb\n",
    "import lightgbm as lgb\n",
    "import datetime as dt\n",
    "import calendar,warnings,itertools,matplotlib,keras,shutil\n",
    "import tensorflow as tf\n",
    "import statsmodels.api as sm\n",
    "import keras\n",
    "from datetime import datetime\n",
    "from sklearn.model_selection import train_test_split,cross_val_score, cross_val_predict\n",
    "from sklearn import svm,metrics,tree,preprocessing,linear_model\n",
    "from sklearn.preprocessing import MinMaxScaler,StandardScaler\n",
    "from sklearn.naive_bayes import GaussianNB\n",
    "from sklearn.neighbors import KNeighborsClassifier\n",
    "from sklearn.tree import DecisionTreeRegressor\n",
    "from sklearn.linear_model import Ridge,LinearRegression,LogisticRegression,ElasticNet, Lasso\n",
    "from sklearn.ensemble import RandomForestRegressor,RandomForestClassifier, GradientBoostingRegressor,BaggingClassifier,ExtraTreesClassifier\n",
    "from sklearn.metrics import accuracy_score,mean_squared_error,recall_score,confusion_matrix,f1_score,roc_curve, auc\n",
    "from sklearn.datasets import load_iris,make_regression\n",
    "from sklearn.discriminant_analysis import LinearDiscriminantAnalysis\n",
    "from sklearn.kernel_ridge import KernelRidge\n",
    "from keras import Sequential\n",
    "from keras.layers import Dense\n",
    "from IPython.core import display as ICD\n",
    "from tensorflow.estimator import inputs\n",
    "\n",
    "#Hiding the warnings\n",
    "warnings.filterwarnings('ignore') "
   ]
  },
  {
   "cell_type": "code",
   "execution_count": 104,
   "metadata": {
    "colab": {
     "base_uri": "https://localhost:8080/"
    },
    "id": "HVy5X-3xicq_",
    "outputId": "44e8feb7-1cae-4029-bed2-fe4b8d5caad5"
   },
   "outputs": [
    {
     "name": "stdout",
     "output_type": "stream",
     "text": [
      "Done!\n"
     ]
    }
   ],
   "source": [
    "import pandas as pd\n",
    "import numpy as np\n",
    "import seaborn as sns\n",
    "import matplotlib.pyplot as plt\n",
    "\n",
    "from sklearn.model_selection import train_test_split\n",
    "from sklearn.preprocessing import StandardScaler\n",
    "print('Done!')"
   ]
  },
  {
   "cell_type": "code",
   "execution_count": 105,
   "metadata": {
    "id": "F1WCd-hG8sKq"
   },
   "outputs": [],
   "source": [
    "from imblearn.under_sampling import RandomUnderSampler\n",
    "rus = RandomUnderSampler(random_state=0)\n",
    "Xr_test, yr_test = rus.fit_resample(Xr_test, yr_test)\n",
    "#X_test = StandardScaler().fit_transform(X_test)"
   ]
  },
  {
   "cell_type": "code",
   "execution_count": 106,
   "metadata": {
    "id": "l1jfkji6iiCu"
   },
   "outputs": [],
   "source": [
    "xr_test = Xr_test\n",
    "xr_train = Xr_train\n",
    "yr_test = yr_test\n",
    "yr_train = yr_train\n"
   ]
  },
  {
   "cell_type": "code",
   "execution_count": 117,
   "metadata": {
    "id": "Boye06zZ4j23"
   },
   "outputs": [],
   "source": [
    "from sklearn.metrics import precision_score\n",
    "def modelresult(model_rml,xr_train, xr_test,yr_train,yr_test):\n",
    "    model_rml=model_rml.fit(xr_train,yr_train) # Fitting train data for fraud detection\n",
    "\n",
    "    yr_pred=model_rml.predict(xr_test)\n",
    "\n",
    "    accuracy_r=accuracy_score(yr_test,yr_pred)\n",
    "\n",
    "    precision_r = precision_score(yr_test,yr_pred)\n",
    "\n",
    "    recall_r=recall_score(yr_test,yr_pred)\n",
    "\n",
    "    conf_r=confusion_matrix(yr_test,yr_pred)\n",
    "\n",
    "    f1_r=f1_score(yr_test,yr_pred)\n",
    "\n",
    "    print('RFM Model paramters used are :',model_rml)\n",
    "    print('Accuracy of RFM status is:', (accuracy_r)*100,'%')\n",
    "    print('Precision of RFM status is        :', (precision_r)*100,'%')\n",
    "    print('Recall score of RFM is:', (recall_r)*100,'%')\n",
    "    print('Conf Matrix of RFM is: \\n',(conf_r))\n",
    "    print('F1 score of RFM is:', (f1_r)*100,'%')"
   ]
  },
  {
   "cell_type": "markdown",
   "metadata": {
    "id": "vfFmz3mwO0C0"
   },
   "source": [
    "LogisticRegressionl逻辑回归模型"
   ]
  },
  {
   "cell_type": "code",
   "execution_count": 118,
   "metadata": {
    "colab": {
     "base_uri": "https://localhost:8080/"
    },
    "id": "-5xLqNh5jFBR",
    "outputId": "b507fe14-c2ba-478e-b132-27f1d00e9a65"
   },
   "outputs": [
    {
     "name": "stdout",
     "output_type": "stream",
     "text": [
      "RFM Model paramters used are : LogisticRegression(random_state=0)\n",
      "Accuracy of RFM status is: 86.57024793388429 %\n",
      "Precision of RFM status is        : 92.7536231884058 %\n",
      "Recall score of RFM is: 79.33884297520662 %\n",
      "Conf Matrix of RFM is: \n",
      " [[454  30]\n",
      " [100 384]]\n",
      "F1 score of RFM is: 85.52338530066814 %\n"
     ]
    }
   ],
   "source": [
    "model_r = LogisticRegression(solver='lbfgs',random_state=0) #the classification model\n",
    "#Giving inputs to the defined function\n",
    "modelresult(model_r,xr_train, xr_test,yr_train,yr_test)"
   ]
  },
  {
   "cell_type": "markdown",
   "metadata": {
    "id": "I55beKRZO5VH"
   },
   "source": [
    "GaussianNB模型"
   ]
  },
  {
   "cell_type": "code",
   "execution_count": 119,
   "metadata": {
    "colab": {
     "base_uri": "https://localhost:8080/"
    },
    "id": "waJZKSV5jGs_",
    "outputId": "7e522165-f668-4f03-fe64-e6df666504e3"
   },
   "outputs": [
    {
     "name": "stdout",
     "output_type": "stream",
     "text": [
      "RFM Model paramters used are : GaussianNB()\n",
      "Accuracy of RFM status is: 76.65289256198346 %\n",
      "Precision of RFM status is        : 91.61290322580645 %\n",
      "Recall score of RFM is: 58.67768595041323 %\n",
      "Conf Matrix of RFM is: \n",
      " [[458  26]\n",
      " [200 284]]\n",
      "F1 score of RFM is: 71.53652392947104 %\n"
     ]
    }
   ],
   "source": [
    "model_r = GaussianNB()\n",
    "modelresult(model_r,xr_train, xr_test,yr_train,yr_test)"
   ]
  },
  {
   "cell_type": "markdown",
   "metadata": {
    "id": "vqbdxFqJO7r7"
   },
   "source": [
    "svm模型"
   ]
  },
  {
   "cell_type": "code",
   "execution_count": 120,
   "metadata": {
    "colab": {
     "base_uri": "https://localhost:8080/"
    },
    "id": "0TuG8YkMjJrJ",
    "outputId": "4469cdb1-763c-46cf-ec4e-9bc1f560852f"
   },
   "outputs": [
    {
     "name": "stdout",
     "output_type": "stream",
     "text": [
      "RFM Model paramters used are : LinearSVC()\n",
      "Accuracy of RFM status is: 81.09504132231406 %\n",
      "Precision of RFM status is        : 91.46005509641874 %\n",
      "Recall score of RFM is: 68.59504132231406 %\n",
      "Conf Matrix of RFM is: \n",
      " [[453  31]\n",
      " [152 332]]\n",
      "F1 score of RFM is: 78.39433293978747 %\n"
     ]
    }
   ],
   "source": [
    "model_r = svm.LinearSVC()\n",
    "modelresult(model_r,xr_train, xr_test,yr_train,yr_test)"
   ]
  },
  {
   "cell_type": "markdown",
   "metadata": {
    "id": "JY9hEsBRO96k"
   },
   "source": [
    "KNN模型"
   ]
  },
  {
   "cell_type": "code",
   "execution_count": 121,
   "metadata": {
    "colab": {
     "base_uri": "https://localhost:8080/"
    },
    "id": "-XHUnGwJjLr9",
    "outputId": "4ffa11b2-3008-4319-daf5-45fa972158e4"
   },
   "outputs": [
    {
     "name": "stdout",
     "output_type": "stream",
     "text": [
      "RFM Model paramters used are : KNeighborsClassifier(n_neighbors=1)\n",
      "Accuracy of RFM status is: 85.3305785123967 %\n",
      "Precision of RFM status is        : 88.0 %\n",
      "Recall score of RFM is: 81.81818181818183 %\n",
      "Conf Matrix of RFM is: \n",
      " [[430  54]\n",
      " [ 88 396]]\n",
      "F1 score of RFM is: 84.796573875803 %\n"
     ]
    }
   ],
   "source": [
    "model_r = KNeighborsClassifier(n_neighbors=1)\n",
    "modelresult(model_r,xr_train, xr_test,yr_train,yr_test)"
   ]
  },
  {
   "cell_type": "markdown",
   "metadata": {
    "id": "ROGurFSOO_Za"
   },
   "source": [
    "LDA模型"
   ]
  },
  {
   "cell_type": "code",
   "execution_count": 122,
   "metadata": {
    "colab": {
     "base_uri": "https://localhost:8080/"
    },
    "id": "ujEQx8YmjNJ0",
    "outputId": "9bd21c13-560e-43e8-d587-0d203c844858"
   },
   "outputs": [
    {
     "name": "stdout",
     "output_type": "stream",
     "text": [
      "RFM Model paramters used are : LinearDiscriminantAnalysis()\n",
      "Accuracy of RFM status is: 84.400826446281 %\n",
      "Precision of RFM status is        : 92.36641221374046 %\n",
      "Recall score of RFM is: 75.0 %\n",
      "Conf Matrix of RFM is: \n",
      " [[454  30]\n",
      " [121 363]]\n",
      "F1 score of RFM is: 82.78221208665906 %\n"
     ]
    }
   ],
   "source": [
    "model_r = LinearDiscriminantAnalysis()\n",
    "modelresult(model_r,xr_train, xr_test,yr_train,yr_test)"
   ]
  },
  {
   "cell_type": "markdown",
   "metadata": {
    "id": "Jnv4tQAjPBj9"
   },
   "source": [
    "随机森林模型"
   ]
  },
  {
   "cell_type": "code",
   "execution_count": 123,
   "metadata": {
    "colab": {
     "base_uri": "https://localhost:8080/"
    },
    "id": "--bomt0BjYJj",
    "outputId": "9ee04058-a48b-48d1-8042-017f8e6da263"
   },
   "outputs": [
    {
     "name": "stdout",
     "output_type": "stream",
     "text": [
      "RFM Model paramters used are : RandomForestClassifier(max_depth=10, random_state=0)\n",
      "Accuracy of RFM status is: 88.7396694214876 %\n",
      "Precision of RFM status is        : 96.75810473815461 %\n",
      "Recall score of RFM is: 80.16528925619835 %\n",
      "Conf Matrix of RFM is: \n",
      " [[471  13]\n",
      " [ 96 388]]\n",
      "F1 score of RFM is: 87.68361581920904 %\n"
     ]
    }
   ],
   "source": [
    "model_r = RandomForestClassifier(n_estimators=100, max_depth=10, random_state=0)\n",
    "modelresult(model_r,xr_train, xr_test,yr_train,yr_test)"
   ]
  },
  {
   "cell_type": "code",
   "execution_count": 10,
   "metadata": {},
   "outputs": [],
   "source": [
    "import torch\n",
    "import torch.nn as nn\n",
    "import numpy as np\n",
    "import math"
   ]
  },
  {
   "cell_type": "code",
   "execution_count": 11,
   "metadata": {},
   "outputs": [],
   "source": [
    "class Mylstm(nn.Module):\n",
    "    def __init__(self):\n",
    "        super().__init__()\n",
    "        self.hidden = 128  # 循环神经元个数128\n",
    "        self.rnn = nn.LSTM(input_size=1, hidden_size=self.hidden // 2, batch_first=True, num_layers=1,\n",
    "                           bidirectional=True)\n",
    "        # self.project_1 = nn.Linear(1, self.hidden)\n",
    "        self.activation = nn.Sigmoid()\n",
    "        self.project_2 = nn.Linear(self.hidden, 2)\n",
    "\n",
    "    def forward(self, X):\n",
    "        output = X.unsqueeze(2)\n",
    "        # output=self.project_1(output)\n",
    "        output, _ = self.rnn(output)\n",
    "        fin_layer = output[:, -1]\n",
    "        output = self.project_2(fin_layer)\n",
    "        # output= self.activation(output)\n",
    "        return output\n",
    "\n",
    "    def test(self, X):\n",
    "        result = self.activation(self.forward(X))\n",
    "        result = torch.argmax(result, dim=1)\n",
    "        return result\n"
   ]
  },
  {
   "cell_type": "code",
   "execution_count": 12,
   "metadata": {},
   "outputs": [],
   "source": [
    "class Mylstm_attn(nn.Module):\n",
    "    def __init__(self, batch):\n",
    "        super().__init__()\n",
    "        self.hidden = 128\n",
    "        self.batch = batch\n",
    "        self.attn_weight = nn.Parameter(torch.randn(self.batch, 1, self.hidden))\n",
    "        self.rnn = nn.LSTM(input_size=1, hidden_size=self.hidden // 2, batch_first=True, num_layers=1,\n",
    "                           bidirectional=True)\n",
    "        self.project = nn.Linear(self.hidden, 2)\n",
    "        self.activation = nn.Sigmoid()\n",
    "        self.attn_drop = nn.Dropout(p=0.3)\n",
    "        self.lstm_drop = nn.Dropout(p=0.3)\n",
    "\n",
    "    def attention(self, H):\n",
    "        M = torch.tanh(H)\n",
    "        a = torch.softmax(torch.bmm(self.attn_weight[:M.shape[0]], M), 2)\n",
    "        a = torch.transpose(a, 1, 2)\n",
    "        return torch.bmm(H, a)\n",
    "\n",
    "    def forward(self, X):\n",
    "        output = X.unsqueeze(2)\n",
    "        output, _ = self.rnn(output)\n",
    "        output = self.lstm_drop(output)\n",
    "        output = output.transpose(1, 2)\n",
    "        output = self.attention(output)\n",
    "        output = output.transpose(1, 2)\n",
    "        output = self.attn_drop(output)\n",
    "        output = self.project(output)\n",
    "        return output.squeeze()\n",
    "\n",
    "    def test(self, X):\n",
    "        output = X.unsqueeze(2)\n",
    "        output, _ = self.rnn(output)\n",
    "        output = output.transpose(1, 2)\n",
    "        output = self.attention(output)\n",
    "        output = output.transpose(1, 2)\n",
    "        output = self.project(output)\n",
    "        output = output.squeeze()\n",
    "        output = self.activation(output)\n",
    "        output = torch.argmax(output, dim=1)\n",
    "        return output\n"
   ]
  },
  {
   "cell_type": "code",
   "execution_count": 13,
   "metadata": {},
   "outputs": [],
   "source": [
    "class Myself_attn(nn.Module):\n",
    "    def __init__(self):\n",
    "        super().__init__()\n",
    "        self.hidden = 100\n",
    "        self.project_K = nn.Linear(1, self.hidden, bias=False)\n",
    "        self.project_Q = nn.Linear(1, self.hidden, bias=False)\n",
    "        self.project_V = nn.Linear(1, self.hidden, bias=False)\n",
    "        self.softmax = nn.Softmax(dim=2)\n",
    "        self.layer_norm = nn.LayerNorm(normalized_shape=self.hidden)\n",
    "        self.layer_1 = nn.Linear(self.hidden, self.hidden)\n",
    "        self.layer_2 = nn.Linear(self.hidden, self.hidden)\n",
    "        self.relu = nn.ReLU()\n",
    "        self.A=nn.Linear(40,1)\n",
    "\n",
    "    def singal_head_score(self, Q, K):\n",
    "        dot_product = torch.bmm(Q, K.transpose(1, 2)) / math.sqrt(self.hidden)\n",
    "        return self.softmax(dot_product)  # batch seq_len seq_len\n",
    "    def mul_attention_score(self, Q, K, head):\n",
    "        mul_Q = Q.reshape(Q.shape[0], Q.shape[1], head, -1).transpose(1, 2)\n",
    "        mul_K = K.reshape(K.shape[0], K.shape[1], head, -1).transpose(1, 2)\n",
    "        Q_shape=mul_Q.shape\n",
    "        K_shape=mul_K.shape\n",
    "        mul_Q = mul_Q.reshape(Q_shape[0] * Q_shape[1], Q_shape[2], Q_shape[3])\n",
    "        mul_K = mul_K.reshape(K_shape[0] * K_shape[1], K_shape[2], K_shape[3])\n",
    "        dot_product = torch.bmm(mul_Q, mul_K.transpose(1, 2)) / math.sqrt(self.hidden / head)\n",
    "        result = self.softmax(dot_product)\n",
    "        return result # batch*head, seq_len, seq_len\n",
    "    def ffn_add_norm(self,X):\n",
    "        result = self.relu(self.layer_2(self.layer_1(X)))\n",
    "        result = X + result\n",
    "        result = self.layer_norm(result)\n",
    "        return result\n",
    "    def forward(self,X):\n",
    "        # X.shape = batch,seq\n",
    "        X=X.unsqueeze(2) # -> batch seq , 1\n",
    "        Q=self.project_Q(X)\n",
    "        K=self.project_K(X)\n",
    "        V=self.project_V(X)\n",
    "        head=4\n",
    "        if head==1:\n",
    "            attention_score = self.singal_head_score(Q,K)\n",
    "            result=torch.bmm(attention_score,V)\n",
    "        else:\n",
    "            attention_score = self.mul_attention_score(Q, V, head)\n",
    "            V = V.reshape(V.shape[0], V.shape[1], head, -1).transpose(1, 2)\n",
    "            V = V.reshape(V.shape[0] * head, V.shape[2], V.shape[3])\n",
    "            result = torch.bmm(attention_score, V)\n",
    "            result = result.transpose(1, 2)\n",
    "            result = result.reshape(int(result.shape[0] / head), head, result.shape[1], result.shape[2])\n",
    "            result = result.reshape(result.shape[0], head * result.shape[2], result.shape[3]).transpose(1, 2)\n",
    "            V=V.transpose(1,2)\n",
    "            V=V.reshape(int(V.shape[0]/head),head,V.shape[1],V.shape[2])\n",
    "            V=V.reshape(V.shape[0],head*V.shape[2],V.shape[3]).transpose(1,2)\n",
    "        result=result+V\n",
    "        result=self.ffn_add_norm(result)\n",
    "        result=result.transpose(1,2)\n",
    "        result=self.A(result)\n",
    "        # result\n",
    "        return result"
   ]
  },
  {
   "cell_type": "code",
   "execution_count": 14,
   "metadata": {},
   "outputs": [],
   "source": [
    "import pandas as pd\n",
    "import sklearn.metrics as metrique\n",
    "from pandas import Series\n",
    "from sklearn.preprocessing import StandardScaler, MinMaxScaler\n",
    "from matplotlib import pyplot\n",
    "from sklearn.model_selection import train_test_split\n",
    "import numpy as np\n",
    "import torch\n",
    "import torch.nn as nn\n",
    "from sklearn.metrics import accuracy_score\n",
    "from sklearn.metrics import classification_report, confusion_matrix\n"
   ]
  },
  {
   "cell_type": "code",
   "execution_count": 57,
   "metadata": {},
   "outputs": [
    {
     "data": {
      "text/plain": [
       "(torch.Size([2260, 40]), torch.Size([968, 40]), (2260,), (968,))"
      ]
     },
     "execution_count": 57,
     "metadata": {},
     "output_type": "execute_result"
    }
   ],
   "source": [
    "Xr_train.shape, Xr_test.shape, yr_train.shape, yr_test.shape"
   ]
  },
  {
   "cell_type": "code",
   "execution_count": 138,
   "metadata": {},
   "outputs": [],
   "source": []
  },
  {
   "cell_type": "code",
   "execution_count": 16,
   "metadata": {},
   "outputs": [
    {
     "name": "stdout",
     "output_type": "stream",
     "text": [
      "epoch :  0 ---epoch_loss--- :  78.40277671813965 ---test_precision--- :  0.753099173553719\n",
      "epoch :  1 ---epoch_loss--- :  28.66584587097168 ---test_precision--- :  0.7613636363636364\n",
      "epoch :  2 ---epoch_loss--- :  30.698408365249634 ---test_precision--- :  0.7613636363636364\n",
      "epoch :  3 ---epoch_loss--- :  27.372573018074036 ---test_precision--- :  0.7675619834710744\n",
      "epoch :  4 ---epoch_loss--- :  25.458897829055786 ---test_precision--- :  0.7758264462809917\n",
      "epoch :  5 ---epoch_loss--- :  24.628331303596497 ---test_precision--- :  0.7820247933884298\n",
      "epoch :  6 ---epoch_loss--- :  23.95616900920868 ---test_precision--- :  0.7892561983471075\n",
      "epoch :  7 ---epoch_loss--- :  23.265235543251038 ---test_precision--- :  0.7902892561983471\n",
      "epoch :  8 ---epoch_loss--- :  22.58143812417984 ---test_precision--- :  0.7933884297520661\n",
      "epoch :  9 ---epoch_loss--- :  22.366550981998444 ---test_precision--- :  0.7964876033057852\n",
      "epoch :  10 ---epoch_loss--- :  21.66519784927368 ---test_precision--- :  0.8068181818181818\n",
      "epoch :  11 ---epoch_loss--- :  21.043785631656647 ---test_precision--- :  0.8171487603305785\n",
      "epoch :  12 ---epoch_loss--- :  21.02499270439148 ---test_precision--- :  0.8181818181818182\n",
      "epoch :  13 ---epoch_loss--- :  20.06437373161316 ---test_precision--- :  0.8181818181818182\n",
      "epoch :  14 ---epoch_loss--- :  19.42576152086258 ---test_precision--- :  0.8212809917355371\n",
      "epoch :  15 ---epoch_loss--- :  19.245973885059357 ---test_precision--- :  0.8233471074380165\n",
      "epoch :  16 ---epoch_loss--- :  18.470764935016632 ---test_precision--- :  0.8254132231404959\n",
      "epoch :  17 ---epoch_loss--- :  17.807190358638763 ---test_precision--- :  0.8305785123966942\n",
      "epoch :  18 ---epoch_loss--- :  17.286970376968384 ---test_precision--- :  0.8305785123966942\n",
      "epoch :  19 ---epoch_loss--- :  16.764944434165955 ---test_precision--- :  0.8285123966942148\n",
      "epoch :  20 ---epoch_loss--- :  16.29527646303177 ---test_precision--- :  0.8285123966942148\n",
      "epoch :  21 ---epoch_loss--- :  16.085962533950806 ---test_precision--- :  0.8285123966942148\n",
      "epoch :  22 ---epoch_loss--- :  15.623755812644958 ---test_precision--- :  0.8285123966942148\n",
      "epoch :  23 ---epoch_loss--- :  15.056446433067322 ---test_precision--- :  0.8274793388429752\n",
      "epoch :  24 ---epoch_loss--- :  14.431980609893799 ---test_precision--- :  0.8285123966942148\n",
      "epoch :  25 ---epoch_loss--- :  14.087926983833313 ---test_precision--- :  0.8285123966942148\n",
      "epoch :  26 ---epoch_loss--- :  13.660272181034088 ---test_precision--- :  0.8295454545454546\n",
      "epoch :  27 ---epoch_loss--- :  13.445936501026154 ---test_precision--- :  0.8274793388429752\n",
      "epoch :  28 ---epoch_loss--- :  12.964028537273407 ---test_precision--- :  0.8305785123966942\n",
      "epoch :  29 ---epoch_loss--- :  12.922221302986145 ---test_precision--- :  0.8285123966942148\n",
      "epoch :  30 ---epoch_loss--- :  12.26175132393837 ---test_precision--- :  0.8305785123966942\n"
     ]
    }
   ],
   "source": [
    "model_type='self_attn'\n",
    "if model_type=='self_attn':\n",
    "    model = Myself_attn()\n",
    "    Xr_train = torch.tensor((Xr_train), dtype=torch.float)\n",
    "    Xr_test = torch.tensor((Xr_test), dtype=torch.float)\n",
    "    yr_probs =[]\n",
    "    epoch = 30\n",
    "    batch = 128\n",
    "    lr = 0.001\n",
    "    opt = torch.optim.Adam(model.parameters(), lr=lr, weight_decay=1e-4)\n",
    "    cross_loss = nn.CrossEntropyLoss()\n",
    "    for e in range(epoch+1):\n",
    "        epoch_loss = 0\n",
    "        precision = 0\n",
    "        model.train()\n",
    "        for i in range(0, Xr_train.shape[0], batch):\n",
    "            X = Xr_train[i:i + batch]\n",
    "            label = torch.tensor((yr_train[i:i + batch].to_numpy()), dtype=torch.int64)\n",
    "            output = model(X)\n",
    "            loss = cross_loss(output, label.reshape(-1,1))\n",
    "            loss.backward()\n",
    "            epoch_loss += loss.item()\n",
    "            opt.step()\n",
    "            opt.zero_grad()\n",
    "        model.eval()\n",
    "        for i in range(0, Xr_test.shape[0], batch):\n",
    "            X = Xr_test[i:i + batch]\n",
    "            label = torch.tensor((yr_test[i:i + batch].to_numpy()), dtype=torch.int64)\n",
    "            output = model(X)\n",
    "            pre=torch.argmax(output,dim=1)\n",
    "            precision += torch.eq(pre,label.reshape(-1,1)).sum().item()\n",
    "            \n",
    "        print('epoch : ', e, '---epoch_loss--- : ', epoch_loss, '---test_precision--- : ', precision / Xr_test.shape[0])\n",
    "    \n",
    "\n",
    "    "
   ]
  },
  {
   "cell_type": "code",
   "execution_count": 34,
   "metadata": {},
   "outputs": [
    {
     "name": "stdout",
     "output_type": "stream",
     "text": [
      "Myself_attn(\n",
      "  (project_K): Linear(in_features=1, out_features=100, bias=False)\n",
      "  (project_Q): Linear(in_features=1, out_features=100, bias=False)\n",
      "  (project_V): Linear(in_features=1, out_features=100, bias=False)\n",
      "  (softmax): Softmax(dim=2)\n",
      "  (layer_norm): LayerNorm((100,), eps=1e-05, elementwise_affine=True)\n",
      "  (layer_1): Linear(in_features=100, out_features=100, bias=True)\n",
      "  (layer_2): Linear(in_features=100, out_features=100, bias=True)\n",
      "  (relu): ReLU()\n",
      "  (A): Linear(in_features=40, out_features=1, bias=True)\n",
      ")\n"
     ]
    }
   ],
   "source": [
    "print(model)"
   ]
  },
  {
   "cell_type": "code",
   "execution_count": 37,
   "metadata": {},
   "outputs": [],
   "source": [
    "label = torch.tensor((yr_test.to_numpy()), dtype=torch.int64)\n",
    "output = model(Xr_test)\n",
    "pre=torch.argmax(output,dim=1)\n",
    "ypred = pre.squeeze()"
   ]
  },
  {
   "cell_type": "code",
   "execution_count": 47,
   "metadata": {},
   "outputs": [
    {
     "name": "stdout",
     "output_type": "stream",
     "text": [
      "self_attn ： \n",
      "accuracy : 0.8305785123966942\n",
      "precision : 0.8619909502262444\n",
      "recall : 0.7871900826446281\n",
      "conf : [[423  61]\n",
      " [103 381]]\n",
      "f1: 0.8228941684665227\n"
     ]
    }
   ],
   "source": [
    "from sklearn.metrics import precision_score,recall_score,confusion_matrix,f1_score\n",
    "accuracy=accuracy_score(label,ypred)\n",
    "\n",
    "precision = precision_score(label,ypred)\n",
    "\n",
    "recall=recall_score(label,ypred)\n",
    "\n",
    "conf=confusion_matrix(label,ypred)\n",
    "\n",
    "f1=f1_score(label,ypred)\n",
    "print(\"self_attn ： \")\n",
    "print(\"accuracy :\",accuracy)\n",
    "print(\"precision :\",precision)\n",
    "print(\"recall :\",recall)\n",
    "print(\"conf :\",conf)\n",
    "print(\"f1:\",f1)"
   ]
  },
  {
   "cell_type": "code",
   "execution_count": 74,
   "metadata": {},
   "outputs": [
    {
     "name": "stderr",
     "output_type": "stream",
     "text": [
      "<ipython-input-74-75d7e105f447>:3: UserWarning: To copy construct from a tensor, it is recommended to use sourceTensor.clone().detach() or sourceTensor.clone().detach().requires_grad_(True), rather than torch.tensor(sourceTensor).\n",
      "  Xr_train = torch.tensor((Xr_train), dtype=torch.float)\n",
      "<ipython-input-74-75d7e105f447>:4: UserWarning: To copy construct from a tensor, it is recommended to use sourceTensor.clone().detach() or sourceTensor.clone().detach().requires_grad_(True), rather than torch.tensor(sourceTensor).\n",
      "  Xr_test = torch.tensor((Xr_test), dtype=torch.float)\n"
     ]
    },
    {
     "name": "stdout",
     "output_type": "stream",
     "text": [
      "epoch :  0 ---epoch_loss--- :  3.5363959670066833 ---test_precision--- :  0.6663223140495868\n",
      "epoch :  1 ---epoch_loss--- :  3.322204053401947 ---test_precision--- :  0.7747933884297521\n",
      "epoch :  2 ---epoch_loss--- :  3.1690115332603455 ---test_precision--- :  0.8047520661157025\n",
      "epoch :  3 ---epoch_loss--- :  3.0164905190467834 ---test_precision--- :  0.7975206611570248\n",
      "epoch :  4 ---epoch_loss--- :  2.8800318837165833 ---test_precision--- :  0.7902892561983471\n",
      "epoch :  5 ---epoch_loss--- :  2.736098736524582 ---test_precision--- :  0.7882231404958677\n",
      "epoch :  6 ---epoch_loss--- :  2.5990875363349915 ---test_precision--- :  0.7840909090909091\n",
      "epoch :  7 ---epoch_loss--- :  2.467376083135605 ---test_precision--- :  0.7840909090909091\n",
      "epoch :  8 ---epoch_loss--- :  2.3677278459072113 ---test_precision--- :  0.7861570247933884\n",
      "epoch :  9 ---epoch_loss--- :  2.344940721988678 ---test_precision--- :  0.7923553719008265\n",
      "epoch :  10 ---epoch_loss--- :  2.3374807238578796 ---test_precision--- :  0.7944214876033058\n",
      "epoch :  11 ---epoch_loss--- :  2.335870325565338 ---test_precision--- :  0.7975206611570248\n",
      "epoch :  12 ---epoch_loss--- :  2.3086443543434143 ---test_precision--- :  0.8016528925619835\n",
      "epoch :  13 ---epoch_loss--- :  2.2758543491363525 ---test_precision--- :  0.8037190082644629\n",
      "epoch :  14 ---epoch_loss--- :  2.245468348264694 ---test_precision--- :  0.8078512396694215\n",
      "epoch :  15 ---epoch_loss--- :  2.220387727022171 ---test_precision--- :  0.8119834710743802\n",
      "epoch :  16 ---epoch_loss--- :  2.2075884640216827 ---test_precision--- :  0.8150826446280992\n",
      "epoch :  17 ---epoch_loss--- :  2.2073552310466766 ---test_precision--- :  0.8171487603305785\n",
      "epoch :  18 ---epoch_loss--- :  2.1954507529735565 ---test_precision--- :  0.8192148760330579\n",
      "epoch :  19 ---epoch_loss--- :  2.174262970685959 ---test_precision--- :  0.8202479338842975\n",
      "epoch :  20 ---epoch_loss--- :  2.1859726011753082 ---test_precision--- :  0.8223140495867769\n",
      "epoch :  21 ---epoch_loss--- :  2.1651082038879395 ---test_precision--- :  0.8254132231404959\n",
      "epoch :  22 ---epoch_loss--- :  2.170982539653778 ---test_precision--- :  0.8274793388429752\n",
      "epoch :  23 ---epoch_loss--- :  2.1672871708869934 ---test_precision--- :  0.8305785123966942\n",
      "epoch :  24 ---epoch_loss--- :  2.1611909568309784 ---test_precision--- :  0.8347107438016529\n",
      "epoch :  25 ---epoch_loss--- :  2.138594776391983 ---test_precision--- :  0.8378099173553719\n",
      "epoch :  26 ---epoch_loss--- :  2.144177734851837 ---test_precision--- :  0.8357438016528925\n",
      "epoch :  27 ---epoch_loss--- :  2.125028222799301 ---test_precision--- :  0.8357438016528925\n",
      "epoch :  28 ---epoch_loss--- :  2.1117434203624725 ---test_precision--- :  0.8378099173553719\n",
      "epoch :  29 ---epoch_loss--- :  2.0946538150310516 ---test_precision--- :  0.8398760330578512\n",
      "epoch :  30 ---epoch_loss--- :  2.0640232264995575 ---test_precision--- :  0.8460743801652892\n",
      "epoch :  31 ---epoch_loss--- :  2.0464923977851868 ---test_precision--- :  0.8471074380165289\n",
      "epoch :  32 ---epoch_loss--- :  2.0837238430976868 ---test_precision--- :  0.8450413223140496\n",
      "epoch :  33 ---epoch_loss--- :  2.0305767357349396 ---test_precision--- :  0.8295454545454546\n",
      "epoch :  34 ---epoch_loss--- :  2.1164838671684265 ---test_precision--- :  0.8274793388429752\n",
      "epoch :  35 ---epoch_loss--- :  2.180495500564575 ---test_precision--- :  0.8254132231404959\n",
      "epoch :  36 ---epoch_loss--- :  2.1790606677532196 ---test_precision--- :  0.8285123966942148\n",
      "epoch :  37 ---epoch_loss--- :  2.164649248123169 ---test_precision--- :  0.8295454545454546\n",
      "epoch :  38 ---epoch_loss--- :  2.1351261138916016 ---test_precision--- :  0.8326446280991735\n",
      "epoch :  39 ---epoch_loss--- :  2.1054568886756897 ---test_precision--- :  0.8316115702479339\n",
      "epoch :  40 ---epoch_loss--- :  2.0929428935050964 ---test_precision--- :  0.8347107438016529\n",
      "epoch :  41 ---epoch_loss--- :  2.080272674560547 ---test_precision--- :  0.8357438016528925\n",
      "epoch :  42 ---epoch_loss--- :  2.0702617466449738 ---test_precision--- :  0.8378099173553719\n",
      "epoch :  43 ---epoch_loss--- :  2.0654369592666626 ---test_precision--- :  0.8419421487603306\n",
      "epoch :  44 ---epoch_loss--- :  2.045947164297104 ---test_precision--- :  0.8429752066115702\n",
      "epoch :  45 ---epoch_loss--- :  2.0275192856788635 ---test_precision--- :  0.8378099173553719\n",
      "epoch :  46 ---epoch_loss--- :  2.035645931959152 ---test_precision--- :  0.8378099173553719\n",
      "epoch :  47 ---epoch_loss--- :  2.028026044368744 ---test_precision--- :  0.8388429752066116\n",
      "epoch :  48 ---epoch_loss--- :  2.0322097539901733 ---test_precision--- :  0.8388429752066116\n",
      "epoch :  49 ---epoch_loss--- :  2.017466425895691 ---test_precision--- :  0.8378099173553719\n"
     ]
    }
   ],
   "source": [
    "model_type='attn_lstm'\n",
    "if model_type=='attn_lstm':\n",
    "    Xr_train = torch.tensor((Xr_train), dtype=torch.float)\n",
    "    Xr_test = torch.tensor((Xr_test), dtype=torch.float)\n",
    "    epoch = 50\n",
    "    batch = 512\n",
    "    lr = 0.001\n",
    "    model = Mylstm_attn(batch)\n",
    "    opt = torch.optim.Adam(model.parameters(), lr=lr, weight_decay=1e-4)\n",
    "    cross_loss = nn.CrossEntropyLoss()\n",
    "    for e in range(epoch):\n",
    "        epoch_loss = 0\n",
    "        precision = 0\n",
    "        model.train()\n",
    "        for i in range(0, Xr_train.shape[0], batch):\n",
    "            X = Xr_train[i:i + batch]\n",
    "            label = torch.tensor((yr_train[i:i + batch].to_numpy()), dtype=torch.int64)\n",
    "            output = model(X)\n",
    "            loss = cross_loss(output, label)\n",
    "            loss.backward()\n",
    "            epoch_loss += loss.item()\n",
    "            opt.step()\n",
    "            opt.zero_grad()\n",
    "        model.eval()\n",
    "        for i in range(0, Xr_test.shape[0], batch):\n",
    "            X = Xr_test[i:i + batch]\n",
    "            label = torch.tensor((yr_test[i:i + batch].to_numpy()), dtype=torch.int64)\n",
    "            output = model.test(X)\n",
    "            precision += (output == label).sum().item()\n",
    "        print('epoch : ', e, '---epoch_loss--- : ', epoch_loss, '---test_precision--- : ', precision / Xr_test.shape[0])\n",
    "\n",
    "        "
   ]
  },
  {
   "cell_type": "code",
   "execution_count": 36,
   "metadata": {},
   "outputs": [
    {
     "name": "stdout",
     "output_type": "stream",
     "text": [
      "Mylstm_attn(\n",
      "  (rnn): LSTM(1, 64, batch_first=True, bidirectional=True)\n",
      "  (project): Linear(in_features=128, out_features=2, bias=True)\n",
      "  (activation): Sigmoid()\n",
      "  (attn_drop): Dropout(p=0.3, inplace=False)\n",
      "  (lstm_drop): Dropout(p=0.3, inplace=False)\n",
      ")\n"
     ]
    }
   ],
   "source": [
    "print(model)"
   ]
  },
  {
   "cell_type": "code",
   "execution_count": 78,
   "metadata": {},
   "outputs": [],
   "source": [
    "model = Mylstm_attn(len(Xr_test))\n",
    "ypred = model.test(Xr_test)"
   ]
  },
  {
   "cell_type": "code",
   "execution_count": 83,
   "metadata": {},
   "outputs": [],
   "source": [
    "label = torch.tensor((yr_test.to_numpy()), dtype=torch.int64)"
   ]
  },
  {
   "cell_type": "code",
   "execution_count": 84,
   "metadata": {},
   "outputs": [
    {
     "name": "stdout",
     "output_type": "stream",
     "text": [
      "self_attn ： \n",
      "accuracy : 0.4628099173553719\n",
      "precision : 0.48068669527896996\n",
      "recall : 0.9256198347107438\n",
      "conf : [[  0 484]\n",
      " [ 36 448]]\n",
      "f1: 0.632768361581921\n"
     ]
    }
   ],
   "source": [
    "from sklearn.metrics import precision_score,recall_score,confusion_matrix,f1_score\n",
    "accuracy=accuracy_score(label,ypred)\n",
    "\n",
    "precision = precision_score(label,ypred)\n",
    "\n",
    "recall=recall_score(label,ypred)\n",
    "\n",
    "conf=confusion_matrix(label,ypred)\n",
    "\n",
    "f1=f1_score(label,ypred)\n",
    "print(\"self_attn ： \")\n",
    "print(\"accuracy :\",accuracy)\n",
    "print(\"precision :\",precision)\n",
    "print(\"recall :\",recall)\n",
    "print(\"conf :\",conf)\n",
    "print(\"f1:\",f1)"
   ]
  }
 ],
 "metadata": {
  "accelerator": "GPU",
  "colab": {
   "collapsed_sections": [
    "CjxpXuQ6L73K",
    "nJocyK62hiqk",
    "qk9LSNf_iBSF",
    "6Vf6R2IciWj0"
   ],
   "name": "直播平台恶意退款识别",
   "provenance": []
  },
  "kernelspec": {
   "display_name": "Python 3",
   "language": "python",
   "name": "python3"
  },
  "language_info": {
   "codemirror_mode": {
    "name": "ipython",
    "version": 3
   },
   "file_extension": ".py",
   "mimetype": "text/x-python",
   "name": "python",
   "nbconvert_exporter": "python",
   "pygments_lexer": "ipython3",
   "version": "3.8.5"
  }
 },
 "nbformat": 4,
 "nbformat_minor": 4
}
