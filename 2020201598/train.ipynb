{
 "cells": [
  {
   "cell_type": "code",
   "execution_count": 325,
   "metadata": {},
   "outputs": [],
   "source": [
    "import torch.nn.functional as F\n",
    "import torch.optim as optim\n",
    "import torch\n",
    "import torch.nn as nn\n",
    "import torch.nn.parallel\n",
    "# from PIL import Image\n",
    "import torch.optim\n",
    "import torch.utils.data\n",
    "import torch.utils.data.distributed\n",
    "import torchvision.transforms as transforms\n",
    "import torchvision.datasets as datasets"
   ]
  },
  {
   "cell_type": "code",
   "execution_count": 326,
   "metadata": {},
   "outputs": [],
   "source": [
    "# 每次的个数\n",
    "BATCH_SIZE = 20\n",
    "# 迭代次数\n",
    "EPOCHS = 8\n",
    "# 采用cpu还是gpu进行计算\n",
    "device = torch.device(\"cuda:0\" if torch.cuda.is_available() else \"cpu\")"
   ]
  },
  {
   "cell_type": "code",
   "execution_count": 327,
   "metadata": {},
   "outputs": [],
   "source": [
    "transform = transforms.Compose([\n",
    "    transforms.Resize(100),\n",
    "    transforms.RandomVerticalFlip(),\n",
    "    transforms.RandomCrop(50),\n",
    "    transforms.RandomResizedCrop(150),\n",
    "    transforms.ColorJitter(brightness=0.5, contrast=0.5, hue=0.5),\n",
    "    transforms.ToTensor(),\n",
    "    transforms.Normalize([0.5, 0.5, 0.5], [0.5, 0.5, 0.5])\n",
    "])\n",
    "# 导入训练数据\n",
    "dataset_train = datasets.ImageFolder('C:\\\\Users\\\\60553\\\\Desktop\\\\rgzn\\\\czxt', transform)\n",
    "\n",
    "# 导入测试数据\n",
    "dataset_test = datasets.ImageFolder('C:\\\\Users\\\\60553\\\\Desktop\\\\rgzn\\\\testdata', transform)"
   ]
  },
  {
   "cell_type": "code",
   "execution_count": 328,
   "metadata": {},
   "outputs": [
    {
     "name": "stdout",
     "output_type": "stream",
     "text": [
      "{'狗狗': 0, '鸟': 1}\n"
     ]
    }
   ],
   "source": [
    "classess = dataset_train.classes  # 标签\n",
    "class_to_idxes = dataset_train.class_to_idx  # 对应关系\n",
    "print(class_to_idxes)\n",
    "test_loader = torch.utils.data.DataLoader(dataset_test, batch_size=BATCH_SIZE, shuffle=True)\n",
    "train_loader = torch.utils.data.DataLoader(dataset_train, batch_size=BATCH_SIZE, shuffle=True)"
   ]
  },
  {
   "cell_type": "markdown",
   "metadata": {},
   "source": [
    "# 六个卷积层，四个池化层和两个全连接层"
   ]
  },
  {
   "cell_type": "code",
   "execution_count": 329,
   "metadata": {},
   "outputs": [],
   "source": [
    "class ConvNet(nn.Module):\n",
    "    def __init__(self):\n",
    "        super(ConvNet, self).__init__()\n",
    "        self.conv1 = nn.Conv2d(3, 32, 3)\n",
    "        self.max_pool1 = nn.MaxPool2d(2)\n",
    "        self.conv2 = nn.Conv2d(32, 64, 3)\n",
    "        self.max_pool2 = nn.MaxPool2d(2)\n",
    "        self.conv3 = nn.Conv2d(64, 64, 3)\n",
    "        self.conv4 = nn.Conv2d(64, 64, 3)\n",
    "        self.max_pool3 = nn.MaxPool2d(2)\n",
    "        self.conv5 = nn.Conv2d(64, 128, 3)\n",
    "        self.conv6 = nn.Conv2d(128, 128, 3)\n",
    "        self.max_pool4 = nn.MaxPool2d(2)\n",
    "        self.fc1 = nn.Linear(4608, 512)\n",
    "        self.fc2 = nn.Linear(512, 1)\n",
    "\n",
    "    def forward(self, x):\n",
    "        in_size = x.size(0)\n",
    "        x = self.conv1(x)\n",
    "        x = F.relu(x)\n",
    "        x = self.max_pool1(x)\n",
    "        x = self.conv2(x)\n",
    "        x = F.relu(x)\n",
    "        x = self.max_pool2(x)\n",
    "        x = self.conv3(x)\n",
    "        x = F.relu(x)\n",
    "        x = self.conv4(x)\n",
    "        x = F.relu(x)\n",
    "        x = self.max_pool3(x)\n",
    "        x = self.conv5(x)\n",
    "        x = F.relu(x)\n",
    "        x = self.conv6(x)\n",
    "        x = F.relu(x)\n",
    "        x = self.max_pool4(x)\n",
    "        # 展开\n",
    "        x = x.view(in_size, -1)\n",
    "        x = self.fc1(x)\n",
    "        x = F.relu(x)\n",
    "        x = self.fc2(x)\n",
    "        x = torch.sigmoid(x)\n",
    "        return x"
   ]
  },
  {
   "cell_type": "code",
   "execution_count": 330,
   "metadata": {},
   "outputs": [
    {
     "name": "stdout",
     "output_type": "stream",
     "text": [
      "ConvNet(\n",
      "  (conv1): Conv2d(3, 32, kernel_size=(3, 3), stride=(1, 1))\n",
      "  (max_pool1): MaxPool2d(kernel_size=2, stride=2, padding=0, dilation=1, ceil_mode=False)\n",
      "  (conv2): Conv2d(32, 64, kernel_size=(3, 3), stride=(1, 1))\n",
      "  (max_pool2): MaxPool2d(kernel_size=2, stride=2, padding=0, dilation=1, ceil_mode=False)\n",
      "  (conv3): Conv2d(64, 64, kernel_size=(3, 3), stride=(1, 1))\n",
      "  (conv4): Conv2d(64, 64, kernel_size=(3, 3), stride=(1, 1))\n",
      "  (max_pool3): MaxPool2d(kernel_size=2, stride=2, padding=0, dilation=1, ceil_mode=False)\n",
      "  (conv5): Conv2d(64, 128, kernel_size=(3, 3), stride=(1, 1))\n",
      "  (conv6): Conv2d(128, 128, kernel_size=(3, 3), stride=(1, 1))\n",
      "  (max_pool4): MaxPool2d(kernel_size=2, stride=2, padding=0, dilation=1, ceil_mode=False)\n",
      "  (fc1): Linear(in_features=4608, out_features=512, bias=True)\n",
      "  (fc2): Linear(in_features=512, out_features=1, bias=True)\n",
      ")\n"
     ]
    }
   ],
   "source": [
    "model_lr = 0.0005\n",
    "model = ConvNet().to(device)\n",
    "print(model)\n",
    "# 选择Adam优化器，学习率调低\n",
    "\n",
    "optimizer = optim.Adam(model.parameters(), model_lr)\n"
   ]
  },
  {
   "cell_type": "code",
   "execution_count": 331,
   "metadata": {},
   "outputs": [],
   "source": [
    "def adjust_learning_rate(optimizer, epoch):\n",
    "    modellrnew = model_lr * (0.1 ** (epoch // 5))\n",
    "    print(\"lr:\", modellrnew)\n",
    "    for param_group in optimizer.param_groups:\n",
    "        param_group['lr'] = modellrnew"
   ]
  },
  {
   "cell_type": "code",
   "execution_count": 332,
   "metadata": {},
   "outputs": [],
   "source": [
    "def train(model, device, train_loader, optimizer, epoch):\n",
    "    model.train()\n",
    "    for batch_idx, (data, target) in enumerate(train_loader):\n",
    "\n",
    "        data, target = data.to(device), target.to(device).float().unsqueeze(1)\n",
    "\n",
    "        optimizer.zero_grad()\n",
    "\n",
    "        output = model(data)\n",
    "\n",
    "        # print(output)\n",
    "\n",
    "        loss = F.binary_cross_entropy(output, target)\n",
    "\n",
    "        loss.backward()\n",
    "\n",
    "        optimizer.step()\n",
    "\n",
    "        # if (batch_idx + 1) % 1 == 0:\n",
    "        #     print('Train Epoch: {} [{}/{} ({:.0f}%)]\\tLoss: {:.6f}'.format(\n",
    "        #         epoch, (batch_idx + 1) * len(data), len(train_loader.dataset),\n",
    "        #         100. * (batch_idx + 1) / len(train_loader), loss.item()))"
   ]
  },
  {
   "cell_type": "code",
   "execution_count": 333,
   "metadata": {},
   "outputs": [],
   "source": [
    "def test(model, device, test_loader):\n",
    "    model.eval()\n",
    "\n",
    "    test_loss = 0\n",
    "\n",
    "    correct = 0\n",
    "\n",
    "    with torch.no_grad():\n",
    "        for data, target in test_loader:\n",
    "            data, target = data.to(device), target.to(device).float().unsqueeze(1)\n",
    "            # print(target)\n",
    "            output = model(data)\n",
    "            # print(output)\n",
    "            test_loss += F.binary_cross_entropy(output, target, reduction='mean').item()\n",
    "            pred = torch.tensor([[1] if num[0] >= 0.5 else [0] for num in output]).to(device)\n",
    "            correct += pred.eq(target.long()).sum().item()\n",
    "\n",
    "        print('\\nTest set: Average loss: {:.4f}, Accuracy: {}/{} ({:.0f}%)\\n'.format(\n",
    "            test_loss, correct, len(test_loader.dataset),\n",
    "            100. * correct / len(test_loader.dataset)))"
   ]
  },
  {
   "cell_type": "code",
   "execution_count": 334,
   "metadata": {},
   "outputs": [
    {
     "name": "stdout",
     "output_type": "stream",
     "text": [
      "lr: 0.0005\n",
      "\n",
      "Test set: Average loss: 11.0377, Accuracy: 181/306 (59%)\n",
      "\n",
      "lr: 0.0005\n",
      "\n",
      "Test set: Average loss: 11.0661, Accuracy: 181/306 (59%)\n",
      "\n",
      "lr: 0.0005\n",
      "\n",
      "Test set: Average loss: 11.0670, Accuracy: 190/306 (62%)\n",
      "\n",
      "lr: 0.0005\n",
      "\n",
      "Test set: Average loss: 11.0578, Accuracy: 181/306 (59%)\n",
      "\n",
      "lr: 0.0005\n",
      "\n",
      "Test set: Average loss: 11.0683, Accuracy: 181/306 (59%)\n",
      "\n",
      "lr: 5e-05\n",
      "\n",
      "Test set: Average loss: 11.0700, Accuracy: 181/306 (59%)\n",
      "\n",
      "lr: 5e-05\n",
      "\n",
      "Test set: Average loss: 11.0735, Accuracy: 181/306 (59%)\n",
      "\n",
      "lr: 5e-05\n",
      "\n",
      "Test set: Average loss: 11.0762, Accuracy: 181/306 (59%)\n",
      "\n",
      "lr: 5e-05\n",
      "\n",
      "Test set: Average loss: 11.1001, Accuracy: 156/306 (51%)\n",
      "\n",
      "lr: 5e-05\n",
      "\n",
      "Test set: Average loss: 11.1034, Accuracy: 153/306 (50%)\n",
      "\n"
     ]
    }
   ],
   "source": [
    "for epoch in range(0, EPOCHS):\n",
    "    adjust_learning_rate(optimizer, epoch)\n",
    "    train(model, device, train_loader, optimizer, epoch)\n",
    "    test(model, device, test_loader)"
   ]
  },
  {
   "cell_type": "code",
   "execution_count": 335,
   "metadata": {},
   "outputs": [],
   "source": [
    "torch.save(model, 'C:\\\\Users\\\\60553\\\\Desktop\\\\rgzn\\\\model\\\\model_insects.pth')"
   ]
  }
 ],
 "metadata": {
  "kernelspec": {
   "display_name": "Python 3.10.7 64-bit",
   "language": "python",
   "name": "python3"
  },
  "language_info": {
   "codemirror_mode": {
    "name": "ipython",
    "version": 3
   },
   "file_extension": ".py",
   "mimetype": "text/x-python",
   "name": "python",
   "nbconvert_exporter": "python",
   "pygments_lexer": "ipython3",
   "version": "3.10.7"
  },
  "orig_nbformat": 4,
  "vscode": {
   "interpreter": {
    "hash": "865d8b2eb28e274047ba64063dfb6a2aabf0dfec4905d304d7a76618dae6fdd4"
   }
  }
 },
 "nbformat": 4,
 "nbformat_minor": 2
}
